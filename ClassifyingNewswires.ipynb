{
 "cells": [
  {
   "cell_type": "code",
   "execution_count": 1,
   "metadata": {
    "colab": {
     "base_uri": "https://localhost:8080/",
     "height": 34
    },
    "colab_type": "code",
    "id": "CLOeAhFX3wrG",
    "outputId": "02f2b32c-2e7e-4844-f0e5-5264e30648ec"
   },
   "outputs": [
    {
     "name": "stderr",
     "output_type": "stream",
     "text": [
      "Using TensorFlow backend.\n"
     ]
    }
   ],
   "source": [
    "from keras.datasets import reuters"
   ]
  },
  {
   "cell_type": "code",
   "execution_count": 0,
   "metadata": {
    "colab": {},
    "colab_type": "code",
    "id": "k4Ylw6465tPo"
   },
   "outputs": [],
   "source": [
    "(train_data,train_labels),(test_data,test_labels) = reuters.load_data(num_words=10000)"
   ]
  },
  {
   "cell_type": "code",
   "execution_count": 83,
   "metadata": {
    "colab": {
     "base_uri": "https://localhost:8080/",
     "height": 34
    },
    "colab_type": "code",
    "id": "Zi1QviLE6Iiu",
    "outputId": "91d20f5c-c750-4cbc-f156-7e5e98811c44"
   },
   "outputs": [
    {
     "data": {
      "text/plain": [
       "8982"
      ]
     },
     "execution_count": 83,
     "metadata": {
      "tags": []
     },
     "output_type": "execute_result"
    }
   ],
   "source": [
    "len(train_data)"
   ]
  },
  {
   "cell_type": "code",
   "execution_count": 4,
   "metadata": {
    "colab": {
     "base_uri": "https://localhost:8080/",
     "height": 34
    },
    "colab_type": "code",
    "id": "G70djqGY6P6G",
    "outputId": "2c504d35-092b-4e91-9c70-5561a84edc0d"
   },
   "outputs": [
    {
     "data": {
      "text/plain": [
       "2246"
      ]
     },
     "execution_count": 4,
     "metadata": {
      "tags": []
     },
     "output_type": "execute_result"
    }
   ],
   "source": [
    "len(test_data)"
   ]
  },
  {
   "cell_type": "code",
   "execution_count": 0,
   "metadata": {
    "colab": {},
    "colab_type": "code",
    "id": "FahTXM386XTx"
   },
   "outputs": [],
   "source": [
    "word_index = reuters.get_word_index()\n"
   ]
  },
  {
   "cell_type": "code",
   "execution_count": 0,
   "metadata": {
    "colab": {},
    "colab_type": "code",
    "id": "awB0IYU566mx"
   },
   "outputs": [],
   "source": [
    "reverse_word_index = dict([(value,key) for (key,value) in word_index.items()])"
   ]
  },
  {
   "cell_type": "code",
   "execution_count": 0,
   "metadata": {
    "colab": {},
    "colab_type": "code",
    "id": "Y6uRtV187qaN"
   },
   "outputs": [],
   "source": [
    "decoded_newswires = ' '.join([reverse_word_index.get(i -3, '?') for i in train_data[0]])"
   ]
  },
  {
   "cell_type": "code",
   "execution_count": 0,
   "metadata": {
    "colab": {},
    "colab_type": "code",
    "id": "jZUKRUic8X3H"
   },
   "outputs": [],
   "source": [
    "import numpy as np\n",
    "def vectorize_data(sequences,dimension=10000):\n",
    "  results =  np.zeros((len(sequences),dimension))\n",
    "  for i,sequence in enumerate(sequences):\n",
    "    results[i,sequence] = 1\n",
    "  return results"
   ]
  },
  {
   "cell_type": "code",
   "execution_count": 0,
   "metadata": {
    "colab": {},
    "colab_type": "code",
    "id": "746Dz5fB9eS4"
   },
   "outputs": [],
   "source": [
    "x_train = vectorize_data(train_data)\n",
    "x_test = vectorize_data(test_data)"
   ]
  },
  {
   "cell_type": "code",
   "execution_count": 0,
   "metadata": {
    "colab": {},
    "colab_type": "code",
    "id": "2NvpdxcC-AXE"
   },
   "outputs": [],
   "source": [
    "def to_one_hot(labels,dimension=46):\n",
    "  results = np.zeros((len(labels),dimension))\n",
    "  for i,label in enumerate(labels):\n",
    "    results[i,label] = 1\n",
    "  return results\n",
    " \n"
   ]
  },
  {
   "cell_type": "code",
   "execution_count": 0,
   "metadata": {
    "colab": {},
    "colab_type": "code",
    "id": "Wqs4Jowl-MJU"
   },
   "outputs": [],
   "source": [
    "one_hot_train_labels = to_one_hot(train_labels)\n",
    "one_hot_test_labels = to_one_hot(test_labels)"
   ]
  },
  {
   "cell_type": "code",
   "execution_count": 0,
   "metadata": {
    "colab": {},
    "colab_type": "code",
    "id": "03Ck1K38AkmG"
   },
   "outputs": [],
   "source": [
    "from keras import models\n",
    "from keras import layers"
   ]
  },
  {
   "cell_type": "code",
   "execution_count": 0,
   "metadata": {
    "colab": {},
    "colab_type": "code",
    "id": "9FMU0q6fFP0N"
   },
   "outputs": [],
   "source": [
    "model = models.Sequential()\n",
    "model.add(layers.Dense(64,activation = 'relu',input_shape=(10000,)))\n",
    "model.add(layers.Dense(64,activation='relu'))\n",
    "model.add(layers.Dense(46,activation='softmax'))"
   ]
  },
  {
   "cell_type": "code",
   "execution_count": 0,
   "metadata": {
    "colab": {},
    "colab_type": "code",
    "id": "tEjtWCSaFm2w"
   },
   "outputs": [],
   "source": [
    "model.compile(optimizer = 'rmsprop',loss = 'categorical_crossentropy', metrics = ['accuracy'])"
   ]
  },
  {
   "cell_type": "code",
   "execution_count": 0,
   "metadata": {
    "colab": {},
    "colab_type": "code",
    "id": "JHCd40TnGOyv"
   },
   "outputs": [],
   "source": [
    "x_val = x_train[:1000]\n",
    "partial_x_train = x_train[1000:]\n",
    "y_val = one_hot_train_labels[:1000]\n",
    "patrial_y_train = one_hot_train_labels[1000:]"
   ]
  },
  {
   "cell_type": "code",
   "execution_count": 105,
   "metadata": {
    "colab": {
     "base_uri": "https://localhost:8080/",
     "height": 714
    },
    "colab_type": "code",
    "id": "LJFgj6TrGmc0",
    "outputId": "6cc243d1-fab3-4849-f985-9ded99c3abce"
   },
   "outputs": [
    {
     "name": "stdout",
     "output_type": "stream",
     "text": [
      "Train on 7982 samples, validate on 1000 samples\n",
      "Epoch 1/20\n",
      "7982/7982 [==============================] - 1s 174us/step - loss: 2.5398 - acc: 0.5226 - val_loss: 1.6733 - val_acc: 0.6570\n",
      "Epoch 2/20\n",
      "7982/7982 [==============================] - 1s 142us/step - loss: 1.3712 - acc: 0.7121 - val_loss: 1.2758 - val_acc: 0.7210\n",
      "Epoch 3/20\n",
      "7982/7982 [==============================] - 1s 148us/step - loss: 1.0136 - acc: 0.7781 - val_loss: 1.1303 - val_acc: 0.7530\n",
      "Epoch 4/20\n",
      "7982/7982 [==============================] - 1s 145us/step - loss: 0.7976 - acc: 0.8251 - val_loss: 1.0539 - val_acc: 0.7590\n",
      "Epoch 5/20\n",
      "7982/7982 [==============================] - 1s 145us/step - loss: 0.6393 - acc: 0.8624 - val_loss: 0.9754 - val_acc: 0.7920\n",
      "Epoch 6/20\n",
      "7982/7982 [==============================] - 1s 147us/step - loss: 0.5124 - acc: 0.8923 - val_loss: 0.9102 - val_acc: 0.8140\n",
      "Epoch 7/20\n",
      "7982/7982 [==============================] - 1s 147us/step - loss: 0.4123 - acc: 0.9137 - val_loss: 0.8932 - val_acc: 0.8210\n",
      "Epoch 8/20\n",
      "7982/7982 [==============================] - 1s 146us/step - loss: 0.3354 - acc: 0.9288 - val_loss: 0.8732 - val_acc: 0.8260\n",
      "Epoch 9/20\n",
      "7982/7982 [==============================] - 1s 145us/step - loss: 0.2782 - acc: 0.9371 - val_loss: 0.9337 - val_acc: 0.8010\n",
      "Epoch 10/20\n",
      "7982/7982 [==============================] - 1s 147us/step - loss: 0.2312 - acc: 0.9463 - val_loss: 0.9171 - val_acc: 0.8170\n",
      "Epoch 11/20\n",
      "7982/7982 [==============================] - 1s 145us/step - loss: 0.2004 - acc: 0.9521 - val_loss: 0.9183 - val_acc: 0.8200\n",
      "Epoch 12/20\n",
      "7982/7982 [==============================] - 1s 143us/step - loss: 0.1818 - acc: 0.9514 - val_loss: 0.9279 - val_acc: 0.8150\n",
      "Epoch 13/20\n",
      "7982/7982 [==============================] - 1s 142us/step - loss: 0.1584 - acc: 0.9535 - val_loss: 0.9975 - val_acc: 0.8010\n",
      "Epoch 14/20\n",
      "7982/7982 [==============================] - 1s 141us/step - loss: 0.1467 - acc: 0.9558 - val_loss: 0.9656 - val_acc: 0.8070\n",
      "Epoch 15/20\n",
      "7982/7982 [==============================] - 1s 141us/step - loss: 0.1350 - acc: 0.9545 - val_loss: 0.9866 - val_acc: 0.8110\n",
      "Epoch 16/20\n",
      "7982/7982 [==============================] - 1s 143us/step - loss: 0.1277 - acc: 0.9563 - val_loss: 1.0307 - val_acc: 0.8010\n",
      "Epoch 17/20\n",
      "7982/7982 [==============================] - 1s 143us/step - loss: 0.1244 - acc: 0.9560 - val_loss: 1.0010 - val_acc: 0.8130\n",
      "Epoch 18/20\n",
      "7982/7982 [==============================] - 1s 142us/step - loss: 0.1156 - acc: 0.9594 - val_loss: 1.0181 - val_acc: 0.8170\n",
      "Epoch 19/20\n",
      "7982/7982 [==============================] - 1s 142us/step - loss: 0.1179 - acc: 0.9572 - val_loss: 1.0802 - val_acc: 0.8010\n",
      "Epoch 20/20\n",
      "7982/7982 [==============================] - 1s 146us/step - loss: 0.1103 - acc: 0.9574 - val_loss: 1.0605 - val_acc: 0.8120\n"
     ]
    }
   ],
   "source": [
    "history = model.fit(partial_x_train,patrial_y_train,epochs = 20,batch_size = 512,validation_data = (x_val,y_val))"
   ]
  },
  {
   "cell_type": "code",
   "execution_count": 106,
   "metadata": {
    "colab": {
     "base_uri": "https://localhost:8080/",
     "height": 376
    },
    "colab_type": "code",
    "id": "uJ21WKXWG4e2",
    "outputId": "edb79694-3aa2-4870-f06c-d15bb4f61eca"
   },
   "outputs": [
    {
     "data": {
      "image/png": "[encoded data removed]",
      "text/plain": [
       "<Figure size 576x396 with 1 Axes>"
      ]
     },
     "metadata": {
      "tags": []
     },
     "output_type": "display_data"
    }
   ],
   "source": [
    "import matplotlib.pyplot as plt\n",
    "loss = history.history['loss']\n",
    "val_loss = history.history['val_loss']\n",
    "epochs = range(1,len(loss)+1)\n",
    "plt.plot(epochs,loss,'bo',label = 'Training Loss')\n",
    "plt.plot(epochs,val_loss,'b',label = 'Validation Loss')\n",
    "plt.title('Training and validation loss')\n",
    "plt.xlabel('Epochs')\n",
    "plt.ylabel('Loss')\n",
    "plt.legend()\n",
    "plt.show()"
   ]
  },
  {
   "cell_type": "code",
   "execution_count": 107,
   "metadata": {
    "colab": {
     "base_uri": "https://localhost:8080/",
     "height": 376
    },
    "colab_type": "code",
    "id": "B3_DZRTlHbeh",
    "outputId": "513989ac-3c4d-47c4-b7d8-5bc88a435b7a"
   },
   "outputs": [
    {
     "data": {
      "image/png": "[encoded data removed]",
      "text/plain": [
       "<Figure size 576x396 with 1 Axes>"
      ]
     },
     "metadata": {
      "tags": []
     },
     "output_type": "display_data"
    }
   ],
   "source": [
    "acc = history.history['acc']\n",
    "val_acc = history.history['val_acc']\n",
    "epochs = range(1,len(acc)+1)\n",
    "plt.plot(epochs,acc,'bo',label = 'Training acc')\n",
    "plt.plot(epochs,val_acc,'b',label = 'Validation acc')\n",
    "plt.title('Training and validation acc')\n",
    "plt.xlabel('Epochs')\n",
    "plt.ylabel('Acc')\n",
    "plt.legend()\n",
    "plt.show()"
   ]
  },
  {
   "cell_type": "code",
   "execution_count": 114,
   "metadata": {
    "colab": {
     "base_uri": "https://localhost:8080/",
     "height": 544
    },
    "colab_type": "code",
    "id": "aJqybkGqQVtz",
    "outputId": "e91a7dab-6d95-4528-ba11-3d64050337bb"
   },
   "outputs": [
    {
     "name": "stdout",
     "output_type": "stream",
     "text": [
      "Train on 7982 samples, validate on 1000 samples\n",
      "Epoch 1/15\n",
      "7982/7982 [==============================] - 1s 179us/step - loss: 2.5058 - acc: 0.5494 - val_loss: 1.6306 - val_acc: 0.6490\n",
      "Epoch 2/15\n",
      "7982/7982 [==============================] - 1s 142us/step - loss: 1.3512 - acc: 0.7141 - val_loss: 1.2588 - val_acc: 0.7210\n",
      "Epoch 3/15\n",
      "7982/7982 [==============================] - 1s 143us/step - loss: 1.0074 - acc: 0.7865 - val_loss: 1.0972 - val_acc: 0.7620\n",
      "Epoch 4/15\n",
      "7982/7982 [==============================] - 1s 147us/step - loss: 0.8027 - acc: 0.8275 - val_loss: 1.0113 - val_acc: 0.7900\n",
      "Epoch 5/15\n",
      "7982/7982 [==============================] - 1s 142us/step - loss: 0.6363 - acc: 0.8658 - val_loss: 0.9585 - val_acc: 0.8070\n",
      "Epoch 6/15\n",
      "7982/7982 [==============================] - 1s 142us/step - loss: 0.5086 - acc: 0.8938 - val_loss: 0.9250 - val_acc: 0.8130\n",
      "Epoch 7/15\n",
      "7982/7982 [==============================] - 1s 142us/step - loss: 0.4074 - acc: 0.9122 - val_loss: 0.9005 - val_acc: 0.8180\n",
      "Epoch 8/15\n",
      "7982/7982 [==============================] - 1s 142us/step - loss: 0.3337 - acc: 0.9271 - val_loss: 0.8855 - val_acc: 0.8150\n",
      "Epoch 9/15\n",
      "7982/7982 [==============================] - 1s 142us/step - loss: 0.2791 - acc: 0.9371 - val_loss: 0.8972 - val_acc: 0.8190\n",
      "Epoch 10/15\n",
      "7982/7982 [==============================] - 1s 142us/step - loss: 0.2350 - acc: 0.9444 - val_loss: 0.8964 - val_acc: 0.8120\n",
      "Epoch 11/15\n",
      "7982/7982 [==============================] - 1s 142us/step - loss: 0.1974 - acc: 0.9500 - val_loss: 0.9113 - val_acc: 0.8160\n",
      "Epoch 12/15\n",
      "7982/7982 [==============================] - 1s 143us/step - loss: 0.1792 - acc: 0.9514 - val_loss: 0.9092 - val_acc: 0.8150\n",
      "Epoch 13/15\n",
      "7982/7982 [==============================] - 1s 142us/step - loss: 0.1614 - acc: 0.9516 - val_loss: 0.9520 - val_acc: 0.8030\n",
      "Epoch 14/15\n",
      "7982/7982 [==============================] - 1s 141us/step - loss: 0.1520 - acc: 0.9538 - val_loss: 0.9619 - val_acc: 0.8060\n",
      "Epoch 15/15\n",
      "7982/7982 [==============================] - 1s 141us/step - loss: 0.1402 - acc: 0.9563 - val_loss: 0.9614 - val_acc: 0.8090\n"
     ]
    }
   ],
   "source": [
    "history = model.fit(partial_x_train,patrial_y_train,epochs = 15,batch_size = 512,validation_data = (x_val,y_val))"
   ]
  },
  {
   "cell_type": "code",
   "execution_count": 118,
   "metadata": {
    "colab": {
     "base_uri": "https://localhost:8080/",
     "height": 289
    },
    "colab_type": "code",
    "id": "s6qAzKd8Qj3E",
    "outputId": "37160fc2-cf28-495c-a5cd-d27cde52bcf7"
   },
   "outputs": [
    {
     "name": "stdout",
     "output_type": "stream",
     "text": [
      "Train on 7982 samples, validate on 1000 samples\n",
      "Epoch 1/7\n",
      "7982/7982 [==============================] - 2s 194us/step - loss: 2.5526 - acc: 0.5337 - val_loss: 1.6640 - val_acc: 0.6480\n",
      "Epoch 2/7\n",
      "7982/7982 [==============================] - 1s 142us/step - loss: 1.3705 - acc: 0.7152 - val_loss: 1.2726 - val_acc: 0.7300\n",
      "Epoch 3/7\n",
      "7982/7982 [==============================] - 1s 142us/step - loss: 1.0309 - acc: 0.7790 - val_loss: 1.1325 - val_acc: 0.7520\n",
      "Epoch 4/7\n",
      "7982/7982 [==============================] - 1s 142us/step - loss: 0.8156 - acc: 0.8279 - val_loss: 1.0452 - val_acc: 0.7710\n",
      "Epoch 5/7\n",
      "7982/7982 [==============================] - 1s 141us/step - loss: 0.6565 - acc: 0.8616 - val_loss: 1.0405 - val_acc: 0.7670\n",
      "Epoch 6/7\n",
      "7982/7982 [==============================] - 1s 142us/step - loss: 0.5345 - acc: 0.8900 - val_loss: 0.9469 - val_acc: 0.8130\n",
      "Epoch 7/7\n",
      "7982/7982 [==============================] - 1s 142us/step - loss: 0.4257 - acc: 0.9088 - val_loss: 0.9123 - val_acc: 0.8160\n",
      "2246/2246 [==============================] - 0s 94us/step\n"
     ]
    }
   ],
   "source": [
    "model = models.Sequential()\n",
    "model.add(layers.Dense(64,activation = 'relu',input_shape=(10000,)))\n",
    "model.add(layers.Dense(64,activation='relu'))\n",
    "model.add(layers.Dense(46,activation='softmax'))\n",
    "model.compile(optimizer = 'rmsprop',loss = 'categorical_crossentropy', metrics = ['accuracy'])\n",
    "history = model.fit(partial_x_train,patrial_y_train,epochs = 7,batch_size = 512,validation_data = (x_val,y_val))\n",
    "results = model.evaluate(x_test,one_hot_test_labels)"
   ]
  },
  {
   "cell_type": "code",
   "execution_count": 119,
   "metadata": {
    "colab": {
     "base_uri": "https://localhost:8080/",
     "height": 376
    },
    "colab_type": "code",
    "id": "IPJjOAxfRO3g",
    "outputId": "553f3078-23d8-4e0a-b5e4-9d37e3eb868e"
   },
   "outputs": [
    {
     "data": {
      "image/png": "[encoded data removed]",
      "text/plain": [
       "<Figure size 576x396 with 1 Axes>"
      ]
     },
     "metadata": {
      "tags": []
     },
     "output_type": "display_data"
    }
   ],
   "source": [
    "acc = history.history['acc']\n",
    "val_acc = history.history['val_acc']\n",
    "epochs = range(1,len(acc)+1)\n",
    "plt.plot(epochs,acc,'bo',label = 'Training acc')\n",
    "plt.plot(epochs,val_acc,'b',label = 'Validation acc')\n",
    "plt.title('Training and validation acc')\n",
    "plt.xlabel('Epochs')\n",
    "plt.ylabel('Acc')\n",
    "plt.legend()\n",
    "plt.show()"
   ]
  },
  {
   "cell_type": "code",
   "execution_count": 120,
   "metadata": {
    "colab": {
     "base_uri": "https://localhost:8080/",
     "height": 34
    },
    "colab_type": "code",
    "id": "0B4ZtU6WRVTz",
    "outputId": "0157b625-b14b-4d72-9bfd-6569a66514f8"
   },
   "outputs": [
    {
     "data": {
      "text/plain": [
       "[1.005133425244665, 0.7787177204183457]"
      ]
     },
     "execution_count": 120,
     "metadata": {
      "tags": []
     },
     "output_type": "execute_result"
    }
   ],
   "source": [
    "results"
   ]
  },
  {
   "cell_type": "code",
   "execution_count": 121,
   "metadata": {
    "colab": {
     "base_uri": "https://localhost:8080/",
     "height": 731
    },
    "colab_type": "code",
    "id": "UgEqz79JRrMk",
    "outputId": "ede67d88-2d7e-489f-9f1e-303afb0eb91c"
   },
   "outputs": [
    {
     "name": "stdout",
     "output_type": "stream",
     "text": [
      "Train on 7982 samples, validate on 1000 samples\n",
      "Epoch 1/20\n",
      "7982/7982 [==============================] - 2s 238us/step - loss: 2.4077 - acc: 0.5502 - val_loss: 1.4925 - val_acc: 0.6720\n",
      "Epoch 2/20\n",
      "7982/7982 [==============================] - 2s 188us/step - loss: 1.1962 - acc: 0.7452 - val_loss: 1.1580 - val_acc: 0.7420\n",
      "Epoch 3/20\n",
      "7982/7982 [==============================] - 2s 195us/step - loss: 0.8356 - acc: 0.8234 - val_loss: 1.0161 - val_acc: 0.7860\n",
      "Epoch 4/20\n",
      "7982/7982 [==============================] - 2s 209us/step - loss: 0.6153 - acc: 0.8718 - val_loss: 0.9807 - val_acc: 0.7900\n",
      "Epoch 5/20\n",
      "7982/7982 [==============================] - 2s 204us/step - loss: 0.4512 - acc: 0.9094 - val_loss: 0.8970 - val_acc: 0.8160\n",
      "Epoch 6/20\n",
      "7982/7982 [==============================] - 2s 198us/step - loss: 0.3574 - acc: 0.9253 - val_loss: 0.8638 - val_acc: 0.8220\n",
      "Epoch 7/20\n",
      "7982/7982 [==============================] - 2s 198us/step - loss: 0.2803 - acc: 0.9406 - val_loss: 0.9429 - val_acc: 0.7940\n",
      "Epoch 8/20\n",
      "7982/7982 [==============================] - 2s 201us/step - loss: 0.2274 - acc: 0.9454 - val_loss: 0.8932 - val_acc: 0.8250\n",
      "Epoch 9/20\n",
      "7982/7982 [==============================] - 2s 198us/step - loss: 0.1931 - acc: 0.9498 - val_loss: 0.9083 - val_acc: 0.8230\n",
      "Epoch 10/20\n",
      "7982/7982 [==============================] - 2s 194us/step - loss: 0.1693 - acc: 0.9540 - val_loss: 0.9317 - val_acc: 0.8140\n",
      "Epoch 11/20\n",
      "7982/7982 [==============================] - 2s 192us/step - loss: 0.1581 - acc: 0.9558 - val_loss: 0.9585 - val_acc: 0.8090\n",
      "Epoch 12/20\n",
      "7982/7982 [==============================] - 2s 192us/step - loss: 0.1478 - acc: 0.9548 - val_loss: 0.9489 - val_acc: 0.8150\n",
      "Epoch 13/20\n",
      "7982/7982 [==============================] - 2s 193us/step - loss: 0.1360 - acc: 0.9575 - val_loss: 0.9670 - val_acc: 0.8080\n",
      "Epoch 14/20\n",
      "7982/7982 [==============================] - 2s 193us/step - loss: 0.1326 - acc: 0.9565 - val_loss: 0.9819 - val_acc: 0.8070\n",
      "Epoch 15/20\n",
      "7982/7982 [==============================] - 2s 194us/step - loss: 0.1295 - acc: 0.9553 - val_loss: 1.1242 - val_acc: 0.7850\n",
      "Epoch 16/20\n",
      "7982/7982 [==============================] - 2s 193us/step - loss: 0.1200 - acc: 0.9560 - val_loss: 1.0304 - val_acc: 0.8120\n",
      "Epoch 17/20\n",
      "7982/7982 [==============================] - 2s 193us/step - loss: 0.1162 - acc: 0.9575 - val_loss: 1.0546 - val_acc: 0.8020\n",
      "Epoch 18/20\n",
      "7982/7982 [==============================] - 2s 198us/step - loss: 0.1172 - acc: 0.9575 - val_loss: 1.0575 - val_acc: 0.8000\n",
      "Epoch 19/20\n",
      "7982/7982 [==============================] - 2s 191us/step - loss: 0.1097 - acc: 0.9565 - val_loss: 1.0994 - val_acc: 0.7930\n",
      "Epoch 20/20\n",
      "7982/7982 [==============================] - 2s 192us/step - loss: 0.1156 - acc: 0.9554 - val_loss: 1.1306 - val_acc: 0.7880\n",
      "2246/2246 [==============================] - 0s 136us/step\n"
     ]
    }
   ],
   "source": [
    "model = models.Sequential()\n",
    "model.add(layers.Dense(128,activation = 'relu',input_shape=(10000,)))\n",
    "model.add(layers.Dense(64,activation='relu'))\n",
    "model.add(layers.Dense(46,activation='softmax'))\n",
    "model.compile(optimizer = 'rmsprop',loss = 'categorical_crossentropy', metrics = ['accuracy'])\n",
    "history = model.fit(partial_x_train,patrial_y_train,epochs = 20,batch_size = 512,validation_data = (x_val,y_val))\n",
    "results = model.evaluate(x_test,one_hot_test_labels)"
   ]
  },
  {
   "cell_type": "code",
   "execution_count": 123,
   "metadata": {
    "colab": {
     "base_uri": "https://localhost:8080/",
     "height": 527
    },
    "colab_type": "code",
    "id": "02RGu9E6SPd5",
    "outputId": "00d0c7d2-bdd4-4368-9622-9aa281ae28c6"
   },
   "outputs": [
    {
     "name": "stdout",
     "output_type": "stream",
     "text": [
      "Train on 7982 samples, validate on 1000 samples\n",
      "Epoch 1/14\n",
      "7982/7982 [==============================] - 2s 273us/step - loss: 2.4179 - acc: 0.4610 - val_loss: 1.5522 - val_acc: 0.6240\n",
      "Epoch 2/14\n",
      "7982/7982 [==============================] - 2s 192us/step - loss: 1.3037 - acc: 0.7046 - val_loss: 1.2263 - val_acc: 0.7250\n",
      "Epoch 3/14\n",
      "7982/7982 [==============================] - 2s 194us/step - loss: 0.9628 - acc: 0.7897 - val_loss: 1.0792 - val_acc: 0.7600\n",
      "Epoch 4/14\n",
      "7982/7982 [==============================] - 2s 194us/step - loss: 0.7208 - acc: 0.8435 - val_loss: 0.9967 - val_acc: 0.7910\n",
      "Epoch 5/14\n",
      "7982/7982 [==============================] - 2s 198us/step - loss: 0.5524 - acc: 0.8810 - val_loss: 0.9452 - val_acc: 0.8010\n",
      "Epoch 6/14\n",
      "7982/7982 [==============================] - 2s 193us/step - loss: 0.4145 - acc: 0.9134 - val_loss: 0.9953 - val_acc: 0.7900\n",
      "Epoch 7/14\n",
      "7982/7982 [==============================] - 2s 193us/step - loss: 0.3325 - acc: 0.9273 - val_loss: 0.9079 - val_acc: 0.8090\n",
      "Epoch 8/14\n",
      "7982/7982 [==============================] - 2s 194us/step - loss: 0.2486 - acc: 0.9429 - val_loss: 1.0252 - val_acc: 0.7830\n",
      "Epoch 9/14\n",
      "7982/7982 [==============================] - 2s 193us/step - loss: 0.2224 - acc: 0.9458 - val_loss: 0.9815 - val_acc: 0.7980\n",
      "Epoch 10/14\n",
      "7982/7982 [==============================] - 2s 192us/step - loss: 0.1866 - acc: 0.9524 - val_loss: 1.1688 - val_acc: 0.7540\n",
      "Epoch 11/14\n",
      "7982/7982 [==============================] - 2s 192us/step - loss: 0.1722 - acc: 0.9540 - val_loss: 1.0006 - val_acc: 0.8020\n",
      "Epoch 12/14\n",
      "7982/7982 [==============================] - 2s 193us/step - loss: 0.1607 - acc: 0.9536 - val_loss: 1.1636 - val_acc: 0.7780\n",
      "Epoch 13/14\n",
      "7982/7982 [==============================] - 2s 193us/step - loss: 0.1430 - acc: 0.9550 - val_loss: 1.0483 - val_acc: 0.7950\n",
      "Epoch 14/14\n",
      "7982/7982 [==============================] - 2s 193us/step - loss: 0.1431 - acc: 0.9565 - val_loss: 1.1379 - val_acc: 0.7800\n",
      "2246/2246 [==============================] - 0s 136us/step\n"
     ]
    }
   ],
   "source": [
    "model = models.Sequential()\n",
    "model.add(layers.Dense(128,activation = 'relu',input_shape=(10000,)))\n",
    "model.add(layers.Dense(64,activation='relu'))\n",
    "model.add(layers.Dense(64,activation='relu'))\n",
    "model.add(layers.Dense(46,activation='softmax'))\n",
    "model.compile(optimizer = 'rmsprop',loss = 'categorical_crossentropy', metrics = ['accuracy'])\n",
    "history = model.fit(partial_x_train,patrial_y_train,epochs = 14,batch_size = 512,validation_data = (x_val,y_val))\n",
    "results = model.evaluate(x_test,one_hot_test_labels)"
   ]
  },
  {
   "cell_type": "code",
   "execution_count": 124,
   "metadata": {
    "colab": {
     "base_uri": "https://localhost:8080/",
     "height": 731
    },
    "colab_type": "code",
    "id": "ufU9V4eOSnle",
    "outputId": "06e611db-453a-441f-f5cd-f7b2e7620968"
   },
   "outputs": [
    {
     "name": "stdout",
     "output_type": "stream",
     "text": [
      "Train on 7982 samples, validate on 1000 samples\n",
      "Epoch 1/20\n",
      "7982/7982 [==============================] - 1s 186us/step - loss: 3.0531 - acc: 0.4184 - val_loss: 2.3270 - val_acc: 0.5660\n",
      "Epoch 2/20\n",
      "7982/7982 [==============================] - 1s 114us/step - loss: 1.9356 - acc: 0.6434 - val_loss: 1.7007 - val_acc: 0.6460\n",
      "Epoch 3/20\n",
      "7982/7982 [==============================] - 1s 114us/step - loss: 1.4489 - acc: 0.7037 - val_loss: 1.4333 - val_acc: 0.6980\n",
      "Epoch 4/20\n",
      "7982/7982 [==============================] - 1s 115us/step - loss: 1.1861 - acc: 0.7468 - val_loss: 1.2789 - val_acc: 0.7240\n",
      "Epoch 5/20\n",
      "7982/7982 [==============================] - 1s 115us/step - loss: 1.0051 - acc: 0.7828 - val_loss: 1.1722 - val_acc: 0.7340\n",
      "Epoch 6/20\n",
      "7982/7982 [==============================] - 1s 119us/step - loss: 0.8590 - acc: 0.8160 - val_loss: 1.0987 - val_acc: 0.7680\n",
      "Epoch 7/20\n",
      "7982/7982 [==============================] - 1s 114us/step - loss: 0.7424 - acc: 0.8430 - val_loss: 1.0489 - val_acc: 0.7830\n",
      "Epoch 8/20\n",
      "7982/7982 [==============================] - 1s 116us/step - loss: 0.6408 - acc: 0.8676 - val_loss: 1.0118 - val_acc: 0.7910\n",
      "Epoch 9/20\n",
      "7982/7982 [==============================] - 1s 116us/step - loss: 0.5545 - acc: 0.8841 - val_loss: 0.9907 - val_acc: 0.7900\n",
      "Epoch 10/20\n",
      "7982/7982 [==============================] - 1s 115us/step - loss: 0.4790 - acc: 0.9000 - val_loss: 0.9657 - val_acc: 0.8040\n",
      "Epoch 11/20\n",
      "7982/7982 [==============================] - 1s 116us/step - loss: 0.4172 - acc: 0.9110 - val_loss: 1.0008 - val_acc: 0.7930\n",
      "Epoch 12/20\n",
      "7982/7982 [==============================] - 1s 115us/step - loss: 0.3649 - acc: 0.9218 - val_loss: 0.9648 - val_acc: 0.8120\n",
      "Epoch 13/20\n",
      "7982/7982 [==============================] - 1s 115us/step - loss: 0.3198 - acc: 0.9321 - val_loss: 0.9714 - val_acc: 0.8060\n",
      "Epoch 14/20\n",
      "7982/7982 [==============================] - 1s 116us/step - loss: 0.2837 - acc: 0.9386 - val_loss: 0.9455 - val_acc: 0.8140\n",
      "Epoch 15/20\n",
      "7982/7982 [==============================] - 1s 115us/step - loss: 0.2505 - acc: 0.9445 - val_loss: 0.9473 - val_acc: 0.8160\n",
      "Epoch 16/20\n",
      "7982/7982 [==============================] - 1s 115us/step - loss: 0.2248 - acc: 0.9483 - val_loss: 0.9654 - val_acc: 0.8090\n",
      "Epoch 17/20\n",
      "7982/7982 [==============================] - 1s 116us/step - loss: 0.2041 - acc: 0.9490 - val_loss: 0.9767 - val_acc: 0.8190\n",
      "Epoch 18/20\n",
      "7982/7982 [==============================] - 1s 116us/step - loss: 0.1840 - acc: 0.9551 - val_loss: 0.9981 - val_acc: 0.8100\n",
      "Epoch 19/20\n",
      "7982/7982 [==============================] - 1s 115us/step - loss: 0.1710 - acc: 0.9538 - val_loss: 1.0271 - val_acc: 0.8130\n",
      "Epoch 20/20\n",
      "7982/7982 [==============================] - 1s 115us/step - loss: 0.1589 - acc: 0.9540 - val_loss: 1.0183 - val_acc: 0.8080\n",
      "2246/2246 [==============================] - 0s 83us/step\n"
     ]
    }
   ],
   "source": [
    "model = models.Sequential()\n",
    "model.add(layers.Dense(32,activation = 'relu',input_shape=(10000,)))\n",
    "model.add(layers.Dense(32,activation='relu'))\n",
    "model.add(layers.Dense(46,activation='softmax'))\n",
    "model.compile(optimizer = 'rmsprop',loss = 'categorical_crossentropy', metrics = ['accuracy'])\n",
    "history = model.fit(partial_x_train,patrial_y_train,epochs = 20,batch_size = 512,validation_data = (x_val,y_val))\n",
    "results = model.evaluate(x_test,one_hot_test_labels)"
   ]
  },
  {
   "cell_type": "code",
   "execution_count": 125,
   "metadata": {
    "colab": {
     "base_uri": "https://localhost:8080/",
     "height": 731
    },
    "colab_type": "code",
    "id": "mOfLqxZ4S3T0",
    "outputId": "9d777dfa-33d5-467b-cd7d-7b0c78158b3b"
   },
   "outputs": [
    {
     "name": "stdout",
     "output_type": "stream",
     "text": [
      "Train on 7982 samples, validate on 1000 samples\n",
      "Epoch 1/20\n",
      "7982/7982 [==============================] - 2s 217us/step - loss: 2.6642 - acc: 0.5571 - val_loss: 1.8676 - val_acc: 0.6480\n",
      "Epoch 2/20\n",
      "7982/7982 [==============================] - 1s 140us/step - loss: 1.5027 - acc: 0.7255 - val_loss: 1.3577 - val_acc: 0.7140\n",
      "Epoch 3/20\n",
      "7982/7982 [==============================] - 1s 140us/step - loss: 1.0741 - acc: 0.7890 - val_loss: 1.1338 - val_acc: 0.7740\n",
      "Epoch 4/20\n",
      "7982/7982 [==============================] - 1s 141us/step - loss: 0.8282 - acc: 0.8360 - val_loss: 1.0093 - val_acc: 0.7910\n",
      "Epoch 5/20\n",
      "7982/7982 [==============================] - 1s 141us/step - loss: 0.6605 - acc: 0.8702 - val_loss: 0.9306 - val_acc: 0.8130\n",
      "Epoch 6/20\n",
      "7982/7982 [==============================] - 1s 147us/step - loss: 0.5377 - acc: 0.8943 - val_loss: 0.9003 - val_acc: 0.8110\n",
      "Epoch 7/20\n",
      "7982/7982 [==============================] - 1s 141us/step - loss: 0.4440 - acc: 0.9128 - val_loss: 0.8514 - val_acc: 0.8270\n",
      "Epoch 8/20\n",
      "7982/7982 [==============================] - 1s 141us/step - loss: 0.3715 - acc: 0.9277 - val_loss: 0.8311 - val_acc: 0.8200\n",
      "Epoch 9/20\n",
      "7982/7982 [==============================] - 1s 140us/step - loss: 0.3130 - acc: 0.9357 - val_loss: 0.8321 - val_acc: 0.8270\n",
      "Epoch 10/20\n",
      "7982/7982 [==============================] - 1s 141us/step - loss: 0.2695 - acc: 0.9407 - val_loss: 0.8209 - val_acc: 0.8260\n",
      "Epoch 11/20\n",
      "7982/7982 [==============================] - 1s 140us/step - loss: 0.2315 - acc: 0.9465 - val_loss: 0.8299 - val_acc: 0.8240\n",
      "Epoch 12/20\n",
      "7982/7982 [==============================] - 1s 141us/step - loss: 0.2033 - acc: 0.9510 - val_loss: 0.8475 - val_acc: 0.8190\n",
      "Epoch 13/20\n",
      "7982/7982 [==============================] - 1s 140us/step - loss: 0.1809 - acc: 0.9521 - val_loss: 0.8457 - val_acc: 0.8200\n",
      "Epoch 14/20\n",
      "7982/7982 [==============================] - 1s 141us/step - loss: 0.1631 - acc: 0.9531 - val_loss: 0.8524 - val_acc: 0.8210\n",
      "Epoch 15/20\n",
      "7982/7982 [==============================] - 1s 140us/step - loss: 0.1485 - acc: 0.9554 - val_loss: 0.8821 - val_acc: 0.8200\n",
      "Epoch 16/20\n",
      "7982/7982 [==============================] - 1s 139us/step - loss: 0.1385 - acc: 0.9557 - val_loss: 0.8729 - val_acc: 0.8200\n",
      "Epoch 17/20\n",
      "7982/7982 [==============================] - 1s 140us/step - loss: 0.1287 - acc: 0.9565 - val_loss: 0.8747 - val_acc: 0.8240\n",
      "Epoch 18/20\n",
      "7982/7982 [==============================] - 1s 143us/step - loss: 0.1205 - acc: 0.9575 - val_loss: 0.9153 - val_acc: 0.8200\n",
      "Epoch 19/20\n",
      "7982/7982 [==============================] - 1s 146us/step - loss: 0.1179 - acc: 0.9569 - val_loss: 0.9193 - val_acc: 0.8120\n",
      "Epoch 20/20\n",
      "7982/7982 [==============================] - 1s 146us/step - loss: 0.1101 - acc: 0.9582 - val_loss: 0.9420 - val_acc: 0.8040\n",
      "2246/2246 [==============================] - 0s 107us/step\n"
     ]
    }
   ],
   "source": [
    "model = models.Sequential()\n",
    "model.add(layers.Dense(64,activation = 'relu',input_shape=(10000,)))\n",
    "model.add(layers.Dense(46,activation='softmax'))\n",
    "model.compile(optimizer = 'rmsprop',loss = 'categorical_crossentropy', metrics = ['accuracy'])\n",
    "history = model.fit(partial_x_train,patrial_y_train,epochs = 20,batch_size = 512,validation_data = (x_val,y_val))\n",
    "results = model.evaluate(x_test,one_hot_test_labels)"
   ]
  },
  {
   "cell_type": "code",
   "execution_count": 126,
   "metadata": {
    "colab": {
     "base_uri": "https://localhost:8080/",
     "height": 289
    },
    "colab_type": "code",
    "id": "9ZvOA7SlTAxQ",
    "outputId": "e2f0cce9-922c-41ee-86e2-22a695722e84"
   },
   "outputs": [
    {
     "name": "stdout",
     "output_type": "stream",
     "text": [
      "Train on 7982 samples, validate on 1000 samples\n",
      "Epoch 1/7\n",
      "7982/7982 [==============================] - 2s 233us/step - loss: 2.1676 - acc: 0.6014 - val_loss: 1.4595 - val_acc: 0.6990\n",
      "Epoch 2/7\n",
      "7982/7982 [==============================] - 1s 147us/step - loss: 1.1538 - acc: 0.7661 - val_loss: 1.1218 - val_acc: 0.7650\n",
      "Epoch 3/7\n",
      "7982/7982 [==============================] - 1s 149us/step - loss: 0.8246 - acc: 0.8300 - val_loss: 0.9751 - val_acc: 0.8030\n",
      "Epoch 4/7\n",
      "7982/7982 [==============================] - 1s 148us/step - loss: 0.6197 - acc: 0.8780 - val_loss: 0.8944 - val_acc: 0.8190\n",
      "Epoch 5/7\n",
      "7982/7982 [==============================] - 1s 147us/step - loss: 0.4762 - acc: 0.9033 - val_loss: 0.8419 - val_acc: 0.8270\n",
      "Epoch 6/7\n",
      "7982/7982 [==============================] - 1s 149us/step - loss: 0.3732 - acc: 0.9251 - val_loss: 0.8231 - val_acc: 0.8230\n",
      "Epoch 7/7\n",
      "7982/7982 [==============================] - 1s 149us/step - loss: 0.2995 - acc: 0.9379 - val_loss: 0.8163 - val_acc: 0.8280\n",
      "2246/2246 [==============================] - 0s 100us/step\n"
     ]
    }
   ],
   "source": [
    "model = models.Sequential()\n",
    "model.add(layers.Dense(64,activation = 'relu',input_shape=(10000,)))\n",
    "model.add(layers.Dense(46,activation='softmax'))\n",
    "model.compile(optimizer = 'rmsprop',loss = 'categorical_crossentropy', metrics = ['accuracy'])\n",
    "history = model.fit(partial_x_train,patrial_y_train,epochs = 7,batch_size = 256,validation_data = (x_val,y_val))\n",
    "results = model.evaluate(x_test,one_hot_test_labels)"
   ]
  },
  {
   "cell_type": "code",
   "execution_count": 127,
   "metadata": {
    "colab": {
     "base_uri": "https://localhost:8080/",
     "height": 376
    },
    "colab_type": "code",
    "id": "OXvcC_NDTNhj",
    "outputId": "7d009834-b422-4282-ba8d-b03fa0269bb4"
   },
   "outputs": [
    {
     "data": {
      "image/png": "[encoded data removed]",
      "text/plain": [
       "<Figure size 576x396 with 1 Axes>"
      ]
     },
     "metadata": {
      "tags": []
     },
     "output_type": "display_data"
    }
   ],
   "source": [
    "acc = history.history['acc']\n",
    "val_acc = history.history['val_acc']\n",
    "epochs = range(1,len(acc)+1)\n",
    "plt.plot(epochs,acc,'bo',label = 'Training acc')\n",
    "plt.plot(epochs,val_acc,'b',label = 'Validation acc')\n",
    "plt.title('Training and validation acc')\n",
    "plt.xlabel('Epochs')\n",
    "plt.ylabel('Acc')\n",
    "plt.legend()\n",
    "plt.show()"
   ]
  },
  {
   "cell_type": "code",
   "execution_count": 128,
   "metadata": {
    "colab": {
     "base_uri": "https://localhost:8080/",
     "height": 731
    },
    "colab_type": "code",
    "id": "R04r93chTV04",
    "outputId": "5bac05b1-ee9b-49bb-913b-90099bd82f7f"
   },
   "outputs": [
    {
     "name": "stdout",
     "output_type": "stream",
     "text": [
      "Train on 7982 samples, validate on 1000 samples\n",
      "Epoch 1/20\n",
      "7982/7982 [==============================] - 2s 221us/step - loss: 2.5390 - acc: 0.5666 - val_loss: 1.8190 - val_acc: 0.6300\n",
      "Epoch 2/20\n",
      "7982/7982 [==============================] - 1s 124us/step - loss: 1.4891 - acc: 0.6933 - val_loss: 1.3497 - val_acc: 0.6920\n",
      "Epoch 3/20\n",
      "7982/7982 [==============================] - 1s 126us/step - loss: 1.1078 - acc: 0.7653 - val_loss: 1.1364 - val_acc: 0.7540\n",
      "Epoch 4/20\n",
      "7982/7982 [==============================] - 1s 127us/step - loss: 0.8877 - acc: 0.8166 - val_loss: 1.0251 - val_acc: 0.7940\n",
      "Epoch 5/20\n",
      "7982/7982 [==============================] - 1s 127us/step - loss: 0.7317 - acc: 0.8505 - val_loss: 0.9575 - val_acc: 0.8030\n",
      "Epoch 6/20\n",
      "7982/7982 [==============================] - 1s 122us/step - loss: 0.6110 - acc: 0.8751 - val_loss: 0.9050 - val_acc: 0.8050\n",
      "Epoch 7/20\n",
      "7982/7982 [==============================] - 1s 120us/step - loss: 0.5127 - acc: 0.8959 - val_loss: 0.8685 - val_acc: 0.8190\n",
      "Epoch 8/20\n",
      "7982/7982 [==============================] - 1s 120us/step - loss: 0.4337 - acc: 0.9103 - val_loss: 0.8615 - val_acc: 0.8170\n",
      "Epoch 9/20\n",
      "7982/7982 [==============================] - 1s 119us/step - loss: 0.3687 - acc: 0.9221 - val_loss: 0.8377 - val_acc: 0.8240\n",
      "Epoch 10/20\n",
      "7982/7982 [==============================] - 1s 125us/step - loss: 0.3160 - acc: 0.9297 - val_loss: 0.8301 - val_acc: 0.8250\n",
      "Epoch 11/20\n",
      "7982/7982 [==============================] - 1s 119us/step - loss: 0.2734 - acc: 0.9397 - val_loss: 0.8230 - val_acc: 0.8270\n",
      "Epoch 12/20\n",
      "7982/7982 [==============================] - 1s 118us/step - loss: 0.2403 - acc: 0.9440 - val_loss: 0.8406 - val_acc: 0.8240\n",
      "Epoch 13/20\n",
      "7982/7982 [==============================] - 1s 120us/step - loss: 0.2121 - acc: 0.9483 - val_loss: 0.8534 - val_acc: 0.8190\n",
      "Epoch 14/20\n",
      "7982/7982 [==============================] - 1s 121us/step - loss: 0.1902 - acc: 0.9514 - val_loss: 0.8459 - val_acc: 0.8250\n",
      "Epoch 15/20\n",
      "7982/7982 [==============================] - 1s 121us/step - loss: 0.1734 - acc: 0.9529 - val_loss: 0.8764 - val_acc: 0.8180\n",
      "Epoch 16/20\n",
      "7982/7982 [==============================] - 1s 120us/step - loss: 0.1573 - acc: 0.9539 - val_loss: 0.8725 - val_acc: 0.8230\n",
      "Epoch 17/20\n",
      "7982/7982 [==============================] - 1s 121us/step - loss: 0.1436 - acc: 0.9565 - val_loss: 0.8914 - val_acc: 0.8140\n",
      "Epoch 18/20\n",
      "7982/7982 [==============================] - 1s 119us/step - loss: 0.1352 - acc: 0.9560 - val_loss: 0.9079 - val_acc: 0.8130\n",
      "Epoch 19/20\n",
      "7982/7982 [==============================] - 1s 119us/step - loss: 0.1275 - acc: 0.9572 - val_loss: 0.9081 - val_acc: 0.8180\n",
      "Epoch 20/20\n",
      "7982/7982 [==============================] - 1s 120us/step - loss: 0.1203 - acc: 0.9580 - val_loss: 0.9357 - val_acc: 0.8140\n",
      "2246/2246 [==============================] - 0s 83us/step\n"
     ]
    }
   ],
   "source": [
    "model = models.Sequential()\n",
    "model.add(layers.Dense(32,activation = 'relu',input_shape=(10000,)))\n",
    "model.add(layers.Dense(46,activation='softmax'))\n",
    "model.compile(optimizer = 'rmsprop',loss = 'categorical_crossentropy', metrics = ['accuracy'])\n",
    "history = model.fit(partial_x_train,patrial_y_train,epochs = 20,batch_size = 256,validation_data = (x_val,y_val))\n",
    "results = model.evaluate(x_test,one_hot_test_labels)"
   ]
  },
  {
   "cell_type": "code",
   "execution_count": 130,
   "metadata": {
    "colab": {
     "base_uri": "https://localhost:8080/",
     "height": 357
    },
    "colab_type": "code",
    "id": "b1llMEKpTdac",
    "outputId": "5cec3c73-49a6-4a58-c22e-9e754487488a"
   },
   "outputs": [
    {
     "name": "stdout",
     "output_type": "stream",
     "text": [
      "Train on 7982 samples, validate on 1000 samples\n",
      "Epoch 1/9\n",
      "7982/7982 [==============================] - 2s 216us/step - loss: 2.4918 - acc: 0.5614 - val_loss: 1.7747 - val_acc: 0.6440\n",
      "Epoch 2/9\n",
      "7982/7982 [==============================] - 1s 124us/step - loss: 1.4571 - acc: 0.7090 - val_loss: 1.3145 - val_acc: 0.7210\n",
      "Epoch 3/9\n",
      "7982/7982 [==============================] - 1s 124us/step - loss: 1.0836 - acc: 0.7757 - val_loss: 1.1193 - val_acc: 0.7690\n",
      "Epoch 4/9\n",
      "7982/7982 [==============================] - 1s 126us/step - loss: 0.8702 - acc: 0.8191 - val_loss: 1.0167 - val_acc: 0.7910\n",
      "Epoch 5/9\n",
      "7982/7982 [==============================] - 1s 124us/step - loss: 0.7162 - acc: 0.8512 - val_loss: 0.9524 - val_acc: 0.7970\n",
      "Epoch 6/9\n",
      "7982/7982 [==============================] - 1s 123us/step - loss: 0.5966 - acc: 0.8768 - val_loss: 0.9174 - val_acc: 0.8080\n",
      "Epoch 7/9\n",
      "7982/7982 [==============================] - 1s 123us/step - loss: 0.4996 - acc: 0.8980 - val_loss: 0.8720 - val_acc: 0.8250\n",
      "Epoch 8/9\n",
      "7982/7982 [==============================] - 1s 123us/step - loss: 0.4216 - acc: 0.9147 - val_loss: 0.8590 - val_acc: 0.8260\n",
      "Epoch 9/9\n",
      "7982/7982 [==============================] - 1s 125us/step - loss: 0.3564 - acc: 0.9267 - val_loss: 0.8392 - val_acc: 0.8220\n",
      "2246/2246 [==============================] - 0s 84us/step\n"
     ]
    }
   ],
   "source": [
    "model = models.Sequential()\n",
    "model.add(layers.Dense(32,activation = 'relu',input_shape=(10000,)))\n",
    "model.add(layers.Dense(46,activation='softmax'))\n",
    "model.compile(optimizer = 'rmsprop',loss = 'categorical_crossentropy', metrics = ['accuracy'])\n",
    "history = model.fit(partial_x_train,patrial_y_train,epochs = 9,batch_size = 256,validation_data = (x_val,y_val))\n",
    "results = model.evaluate(x_test,one_hot_test_labels)"
   ]
  },
  {
   "cell_type": "code",
   "execution_count": 131,
   "metadata": {
    "colab": {
     "base_uri": "https://localhost:8080/",
     "height": 731
    },
    "colab_type": "code",
    "id": "829c4InzTnER",
    "outputId": "c905e3c0-c72d-46ac-e78d-508d6e2b6dc9"
   },
   "outputs": [
    {
     "name": "stdout",
     "output_type": "stream",
     "text": [
      "Train on 7982 samples, validate on 1000 samples\n",
      "Epoch 1/20\n",
      "7982/7982 [==============================] - 2s 299us/step - loss: 2.2250 - acc: 0.6066 - val_loss: 1.4439 - val_acc: 0.7090\n",
      "Epoch 2/20\n",
      "7982/7982 [==============================] - 2s 189us/step - loss: 1.1201 - acc: 0.7790 - val_loss: 1.0969 - val_acc: 0.7780\n",
      "Epoch 3/20\n",
      "7982/7982 [==============================] - 2s 190us/step - loss: 0.7761 - acc: 0.8484 - val_loss: 0.9525 - val_acc: 0.8000\n",
      "Epoch 4/20\n",
      "7982/7982 [==============================] - 2s 192us/step - loss: 0.5713 - acc: 0.8886 - val_loss: 0.8654 - val_acc: 0.8220\n",
      "Epoch 5/20\n",
      "7982/7982 [==============================] - 2s 190us/step - loss: 0.4358 - acc: 0.9133 - val_loss: 0.8287 - val_acc: 0.8210\n",
      "Epoch 6/20\n",
      "7982/7982 [==============================] - 2s 191us/step - loss: 0.3380 - acc: 0.9310 - val_loss: 0.8144 - val_acc: 0.8230\n",
      "Epoch 7/20\n",
      "7982/7982 [==============================] - 2s 190us/step - loss: 0.2746 - acc: 0.9390 - val_loss: 0.8070 - val_acc: 0.8250\n",
      "Epoch 8/20\n",
      "7982/7982 [==============================] - 2s 190us/step - loss: 0.2258 - acc: 0.9466 - val_loss: 0.8187 - val_acc: 0.8210\n",
      "Epoch 9/20\n",
      "7982/7982 [==============================] - 2s 191us/step - loss: 0.1959 - acc: 0.9491 - val_loss: 0.8334 - val_acc: 0.8220\n",
      "Epoch 10/20\n",
      "7982/7982 [==============================] - 2s 192us/step - loss: 0.1671 - acc: 0.9520 - val_loss: 0.8476 - val_acc: 0.8150\n",
      "Epoch 11/20\n",
      "7982/7982 [==============================] - 2s 196us/step - loss: 0.1518 - acc: 0.9541 - val_loss: 0.8504 - val_acc: 0.8240\n",
      "Epoch 12/20\n",
      "7982/7982 [==============================] - 2s 191us/step - loss: 0.1380 - acc: 0.9563 - val_loss: 0.8848 - val_acc: 0.8140\n",
      "Epoch 13/20\n",
      "7982/7982 [==============================] - 2s 192us/step - loss: 0.1311 - acc: 0.9553 - val_loss: 0.9084 - val_acc: 0.8120\n",
      "Epoch 14/20\n",
      "7982/7982 [==============================] - 2s 192us/step - loss: 0.1189 - acc: 0.9564 - val_loss: 0.9092 - val_acc: 0.8170\n",
      "Epoch 15/20\n",
      "7982/7982 [==============================] - 2s 191us/step - loss: 0.1174 - acc: 0.9573 - val_loss: 0.9208 - val_acc: 0.8210\n",
      "Epoch 16/20\n",
      "7982/7982 [==============================] - 2s 192us/step - loss: 0.1136 - acc: 0.9562 - val_loss: 0.9286 - val_acc: 0.8130\n",
      "Epoch 17/20\n",
      "7982/7982 [==============================] - 2s 191us/step - loss: 0.1074 - acc: 0.9563 - val_loss: 0.9725 - val_acc: 0.8120\n",
      "Epoch 18/20\n",
      "7982/7982 [==============================] - 2s 191us/step - loss: 0.1082 - acc: 0.9554 - val_loss: 1.0009 - val_acc: 0.8020\n",
      "Epoch 19/20\n",
      "7982/7982 [==============================] - 2s 191us/step - loss: 0.1014 - acc: 0.9567 - val_loss: 0.9863 - val_acc: 0.8060\n",
      "Epoch 20/20\n",
      "7982/7982 [==============================] - 2s 190us/step - loss: 0.1003 - acc: 0.9587 - val_loss: 0.9930 - val_acc: 0.8030\n",
      "2246/2246 [==============================] - 0s 129us/step\n"
     ]
    }
   ],
   "source": [
    "model = models.Sequential()\n",
    "model.add(layers.Dense(128,activation = 'relu',input_shape=(10000,)))\n",
    "model.add(layers.Dense(46,activation='softmax'))\n",
    "model.compile(optimizer = 'rmsprop',loss = 'categorical_crossentropy', metrics = ['accuracy'])\n",
    "history = model.fit(partial_x_train,patrial_y_train,epochs = 20,batch_size = 512,validation_data = (x_val,y_val))\n",
    "results = model.evaluate(x_test,one_hot_test_labels)"
   ]
  },
  {
   "cell_type": "code",
   "execution_count": 132,
   "metadata": {
    "colab": {
     "base_uri": "https://localhost:8080/",
     "height": 289
    },
    "colab_type": "code",
    "id": "YaEpzEGwT0cQ",
    "outputId": "f51f87b7-dd21-4900-b9b9-ac237ebb9b3d"
   },
   "outputs": [
    {
     "name": "stdout",
     "output_type": "stream",
     "text": [
      "Train on 7982 samples, validate on 1000 samples\n",
      "Epoch 1/7\n",
      "7982/7982 [==============================] - 2s 300us/step - loss: 2.1803 - acc: 0.5856 - val_loss: 1.4167 - val_acc: 0.7020\n",
      "Epoch 2/7\n",
      "7982/7982 [==============================] - 2s 192us/step - loss: 1.0994 - acc: 0.7752 - val_loss: 1.0879 - val_acc: 0.7800\n",
      "Epoch 3/7\n",
      "7982/7982 [==============================] - 2s 192us/step - loss: 0.7670 - acc: 0.8467 - val_loss: 0.9516 - val_acc: 0.8060\n",
      "Epoch 4/7\n",
      "7982/7982 [==============================] - 2s 193us/step - loss: 0.5675 - acc: 0.8905 - val_loss: 0.8767 - val_acc: 0.8130\n",
      "Epoch 5/7\n",
      "7982/7982 [==============================] - 2s 196us/step - loss: 0.4309 - acc: 0.9118 - val_loss: 0.8355 - val_acc: 0.8180\n",
      "Epoch 6/7\n",
      "7982/7982 [==============================] - 2s 197us/step - loss: 0.3393 - acc: 0.9295 - val_loss: 0.8077 - val_acc: 0.8330\n",
      "Epoch 7/7\n",
      "7982/7982 [==============================] - 2s 193us/step - loss: 0.2739 - acc: 0.9401 - val_loss: 0.8007 - val_acc: 0.8330\n",
      "2246/2246 [==============================] - 0s 135us/step\n"
     ]
    }
   ],
   "source": [
    "model = models.Sequential()\n",
    "model.add(layers.Dense(128,activation = 'relu',input_shape=(10000,)))\n",
    "model.add(layers.Dense(46,activation='softmax'))\n",
    "model.compile(optimizer = 'rmsprop',loss = 'categorical_crossentropy', metrics = ['accuracy'])\n",
    "history = model.fit(partial_x_train,patrial_y_train,epochs = 7,batch_size = 512,validation_data = (x_val,y_val))\n",
    "results = model.evaluate(x_test,one_hot_test_labels)"
   ]
  },
  {
   "cell_type": "code",
   "execution_count": 133,
   "metadata": {
    "colab": {
     "base_uri": "https://localhost:8080/",
     "height": 34
    },
    "colab_type": "code",
    "id": "HnmzhrSKUFE7",
    "outputId": "b66c95eb-3600-40d7-86aa-1371bc71f7c0"
   },
   "outputs": [
    {
     "data": {
      "text/plain": [
       "[0.8946056457257971, 0.8018699911483568]"
      ]
     },
     "execution_count": 133,
     "metadata": {
      "tags": []
     },
     "output_type": "execute_result"
    }
   ],
   "source": [
    "results"
   ]
  },
  {
   "cell_type": "code",
   "execution_count": 134,
   "metadata": {
    "colab": {
     "base_uri": "https://localhost:8080/",
     "height": 376
    },
    "colab_type": "code",
    "id": "dxHbkR73UM1W",
    "outputId": "36b2030e-065b-4090-a99d-4288d5dbca73"
   },
   "outputs": [
    {
     "data": {
      "image/png": "[encoded data removed]",
      "text/plain": [
       "<Figure size 576x396 with 1 Axes>"
      ]
     },
     "metadata": {
      "tags": []
     },
     "output_type": "display_data"
    }
   ],
   "source": [
    "acc = history.history['acc']\n",
    "val_acc = history.history['val_acc']\n",
    "epochs = range(1,len(acc)+1)\n",
    "plt.plot(epochs,acc,'bo',label = 'Training acc')\n",
    "plt.plot(epochs,val_acc,'b',label = 'Validation acc')\n",
    "plt.title('Training and validation acc')\n",
    "plt.xlabel('Epochs')\n",
    "plt.ylabel('Acc')\n",
    "plt.legend()\n",
    "plt.show()"
   ]
  },
  {
   "cell_type": "code",
   "execution_count": 0,
   "metadata": {
    "colab": {},
    "colab_type": "code",
    "id": "ZavEt7uaUSTd"
   },
   "outputs": [],
   "source": []
  }
 ],
 "metadata": {
  "colab": {
   "collapsed_sections": [],
   "name": "ClassifyingNewswires.ipynb",
   "provenance": [],
   "version": "0.3.2"
  },
  "kernelspec": {
   "display_name": "Python 3",
   "language": "python",
   "name": "python3"
  },
  "language_info": {
   "codemirror_mode": {
    "name": "ipython",
    "version": 3
   },
   "file_extension": ".py",
   "mimetype": "text/x-python",
   "name": "python",
   "nbconvert_exporter": "python",
   "pygments_lexer": "ipython3",
   "version": "3.6.5"
  }
 },
 "nbformat": 4,
 "nbformat_minor": 1
}
