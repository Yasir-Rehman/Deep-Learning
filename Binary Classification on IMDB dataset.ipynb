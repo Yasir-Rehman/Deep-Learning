{
 "cells": [
  {
   "cell_type": "code",
   "execution_count": 3,
   "metadata": {},
   "outputs": [],
   "source": [
    "import keras"
   ]
  },
  {
   "cell_type": "code",
   "execution_count": 4,
   "metadata": {},
   "outputs": [],
   "source": [
    "from keras.datasets import imdb"
   ]
  },
  {
   "cell_type": "code",
   "execution_count": 22,
   "metadata": {},
   "outputs": [],
   "source": [
    "(train_data,train_labels),(test_data,test_labels) = imdb.load_data(num_words=10000)"
   ]
  },
  {
   "cell_type": "code",
   "execution_count": 34,
   "metadata": {},
   "outputs": [
    {
     "data": {
      "text/plain": [
       "141"
      ]
     },
     "execution_count": 34,
     "metadata": {},
     "output_type": "execute_result"
    }
   ],
   "source": [
    "len(train_data[2])"
   ]
  },
  {
   "cell_type": "code",
   "execution_count": 25,
   "metadata": {},
   "outputs": [],
   "source": [
    "import numpy as np\n",
    "def vectorize_sequence(sequences, dimension = 10000):\n",
    "    results = np.zeros((len(sequences),dimension))\n",
    "    for i,sequences in enumerate(sequences):\n",
    "        results[i,sequences]=1\n",
    "    return results\n",
    "        "
   ]
  },
  {
   "cell_type": "code",
   "execution_count": 26,
   "metadata": {},
   "outputs": [],
   "source": [
    "x_train = vectorize_sequence(train_data)"
   ]
  },
  {
   "cell_type": "code",
   "execution_count": 27,
   "metadata": {},
   "outputs": [],
   "source": [
    "x_test = vectorize_sequence(test_data)"
   ]
  },
  {
   "cell_type": "code",
   "execution_count": 28,
   "metadata": {},
   "outputs": [],
   "source": [
    "y_train = np.asarray(train_labels).astype('float32')"
   ]
  },
  {
   "cell_type": "code",
   "execution_count": 29,
   "metadata": {},
   "outputs": [],
   "source": [
    "y_test = np.asarray(test_labels).astype('float32')"
   ]
  },
  {
   "cell_type": "code",
   "execution_count": 37,
   "metadata": {},
   "outputs": [
    {
     "data": {
      "text/plain": [
       "10000"
      ]
     },
     "execution_count": 37,
     "metadata": {},
     "output_type": "execute_result"
    }
   ],
   "source": [
    "len(x_train[2])"
   ]
  },
  {
   "cell_type": "code",
   "execution_count": 40,
   "metadata": {},
   "outputs": [],
   "source": [
    "from keras import models\n",
    "from keras import layers"
   ]
  },
  {
   "cell_type": "code",
   "execution_count": 41,
   "metadata": {},
   "outputs": [],
   "source": [
    "model = models.Sequential()"
   ]
  },
  {
   "cell_type": "code",
   "execution_count": 42,
   "metadata": {},
   "outputs": [],
   "source": [
    "model.add(layers.Dense(16, activation='relu', input_shape=(10000,)))"
   ]
  },
  {
   "cell_type": "code",
   "execution_count": 43,
   "metadata": {},
   "outputs": [],
   "source": [
    "model.add(layers.Dense(16, activation='relu'))"
   ]
  },
  {
   "cell_type": "code",
   "execution_count": 44,
   "metadata": {},
   "outputs": [],
   "source": [
    "model.add(layers.Dense(1,activation='sigmoid'))"
   ]
  },
  {
   "cell_type": "code",
   "execution_count": 49,
   "metadata": {},
   "outputs": [],
   "source": [
    "model.compile(optimizer = 'rmsprop', loss = 'binary_crossentropy', metrics = ['accuracy'])"
   ]
  },
  {
   "cell_type": "code",
   "execution_count": 50,
   "metadata": {},
   "outputs": [],
   "source": [
    "x_val = x_train[:10000]\n",
    "partial_x_train = x_train[10000:]\n",
    "y_val = y_train[0:10000]\n",
    "partial_y_train = y_train[10000:]"
   ]
  },
  {
   "cell_type": "code",
   "execution_count": 51,
   "metadata": {},
   "outputs": [
    {
     "name": "stdout",
     "output_type": "stream",
     "text": [
      "Train on 15000 samples, validate on 10000 samples\n",
      "Epoch 1/20\n",
      "15000/15000 [==============================] - 7s 477us/step - loss: 0.4976 - acc: 0.7953 - val_loss: 0.3717 - val_acc: 0.8722\n",
      "Epoch 2/20\n",
      "15000/15000 [==============================] - 4s 251us/step - loss: 0.2957 - acc: 0.9046 - val_loss: 0.2990 - val_acc: 0.8910\n",
      "Epoch 3/20\n",
      "15000/15000 [==============================] - 4s 249us/step - loss: 0.2160 - acc: 0.9286 - val_loss: 0.3088 - val_acc: 0.8713\n",
      "Epoch 4/20\n",
      "15000/15000 [==============================] - 4s 251us/step - loss: 0.1742 - acc: 0.9433 - val_loss: 0.2830 - val_acc: 0.8839\n",
      "Epoch 5/20\n",
      "15000/15000 [==============================] - 4s 248us/step - loss: 0.1414 - acc: 0.9543 - val_loss: 0.2863 - val_acc: 0.8851\n",
      "Epoch 6/20\n",
      "15000/15000 [==============================] - 4s 250us/step - loss: 0.1143 - acc: 0.9653 - val_loss: 0.3086 - val_acc: 0.8811\n",
      "Epoch 7/20\n",
      "15000/15000 [==============================] - 4s 245us/step - loss: 0.0970 - acc: 0.9709 - val_loss: 0.3147 - val_acc: 0.8842\n",
      "Epoch 8/20\n",
      "15000/15000 [==============================] - 4s 249us/step - loss: 0.0803 - acc: 0.9764 - val_loss: 0.3869 - val_acc: 0.8659\n",
      "Epoch 9/20\n",
      "15000/15000 [==============================] - 4s 250us/step - loss: 0.0658 - acc: 0.9820 - val_loss: 0.3649 - val_acc: 0.8777\n",
      "Epoch 10/20\n",
      "15000/15000 [==============================] - 4s 265us/step - loss: 0.0553 - acc: 0.9850 - val_loss: 0.3864 - val_acc: 0.8790\n",
      "Epoch 11/20\n",
      "15000/15000 [==============================] - 4s 253us/step - loss: 0.0454 - acc: 0.9885 - val_loss: 0.4181 - val_acc: 0.8764\n",
      "Epoch 12/20\n",
      "15000/15000 [==============================] - 4s 249us/step - loss: 0.0386 - acc: 0.9913 - val_loss: 0.4521 - val_acc: 0.8699\n",
      "Epoch 13/20\n",
      "15000/15000 [==============================] - 4s 249us/step - loss: 0.0297 - acc: 0.9939 - val_loss: 0.4716 - val_acc: 0.8735\n",
      "Epoch 14/20\n",
      "15000/15000 [==============================] - 4s 249us/step - loss: 0.0243 - acc: 0.9949 - val_loss: 0.5026 - val_acc: 0.8719\n",
      "Epoch 15/20\n",
      "15000/15000 [==============================] - 4s 251us/step - loss: 0.0185 - acc: 0.9973 - val_loss: 0.5318 - val_acc: 0.8694\n",
      "Epoch 16/20\n",
      "15000/15000 [==============================] - 4s 298us/step - loss: 0.0154 - acc: 0.9983 - val_loss: 0.5685 - val_acc: 0.8692\n",
      "Epoch 17/20\n",
      "15000/15000 [==============================] - 4s 271us/step - loss: 0.0159 - acc: 0.9971 - val_loss: 0.6021 - val_acc: 0.8686\n",
      "Epoch 18/20\n",
      "15000/15000 [==============================] - 4s 249us/step - loss: 0.0078 - acc: 0.9996 - val_loss: 0.6803 - val_acc: 0.8632\n",
      "Epoch 19/20\n",
      "15000/15000 [==============================] - 4s 252us/step - loss: 0.0113 - acc: 0.9980 - val_loss: 0.6678 - val_acc: 0.8663\n",
      "Epoch 20/20\n",
      "15000/15000 [==============================] - 4s 249us/step - loss: 0.0043 - acc: 0.9998 - val_loss: 0.6968 - val_acc: 0.8658\n"
     ]
    }
   ],
   "source": [
    "history = model.fit(partial_x_train,partial_y_train,epochs=20,batch_size=512,validation_data=(x_val,y_val))"
   ]
  },
  {
   "cell_type": "code",
   "execution_count": 52,
   "metadata": {},
   "outputs": [],
   "source": [
    "import matplotlib.pyplot as plt"
   ]
  },
  {
   "cell_type": "code",
   "execution_count": 53,
   "metadata": {},
   "outputs": [
    {
     "data": {
      "text/plain": [
       "dict_keys(['val_loss', 'val_acc', 'loss', 'acc'])"
      ]
     },
     "execution_count": 53,
     "metadata": {},
     "output_type": "execute_result"
    }
   ],
   "source": [
    "history_dict = history.history\n",
    "history_dict.keys()"
   ]
  },
  {
   "cell_type": "code",
   "execution_count": 62,
   "metadata": {},
   "outputs": [
    {
     "data": {
      "text/plain": [
       "20"
      ]
     },
     "execution_count": 62,
     "metadata": {},
     "output_type": "execute_result"
    }
   ],
   "source": []
  },
  {
   "cell_type": "code",
   "execution_count": 63,
   "metadata": {},
   "outputs": [],
   "source": [
    "history_dict = history.history\n",
    "loss_values =history_dict['loss']\n",
    "val_loss_values = history_dict['val_loss']\n",
    "epochs = range(1, len(history_dict['acc'])+1)"
   ]
  },
  {
   "cell_type": "code",
   "execution_count": 68,
   "metadata": {},
   "outputs": [
    {
     "data": {
      "image/png": "[encoded data removed]",
      "text/plain": [
       "<Figure size 432x288 with 1 Axes>"
      ]
     },
     "metadata": {},
     "output_type": "display_data"
    }
   ],
   "source": [
    "plt.plot(epochs,loss_values,'bo',label='Training loss')\n",
    "plt.plot(epochs,val_loss_values,'b',label='Validation loss')\n",
    "plt.title('Training & Validation loss')\n",
    "plt.xlabel('Epochs')\n",
    "plt.ylabel('Loss')\n",
    "plt.legend()\n",
    "plt.show()"
   ]
  },
  {
   "cell_type": "code",
   "execution_count": null,
   "metadata": {},
   "outputs": [],
   "source": []
  },
  {
   "cell_type": "code",
   "execution_count": null,
   "metadata": {},
   "outputs": [],
   "source": []
  },
  {
   "cell_type": "code",
   "execution_count": 73,
   "metadata": {},
   "outputs": [
    {
     "name": "stdout",
     "output_type": "stream",
     "text": [
      "Epoch 1/4\n",
      "25000/25000 [==============================] - 5s 185us/step - loss: 0.4584 - acc: 0.8133\n",
      "Epoch 2/4\n",
      "25000/25000 [==============================] - 4s 169us/step - loss: 0.2630 - acc: 0.9095\n",
      "Epoch 3/4\n",
      "25000/25000 [==============================] - 4s 170us/step - loss: 0.2005 - acc: 0.9282\n",
      "Epoch 4/4\n",
      "25000/25000 [==============================] - 4s 171us/step - loss: 0.1685 - acc: 0.9388\n",
      "25000/25000 [==============================] - 4s 176us/step\n"
     ]
    }
   ],
   "source": [
    "model = models.Sequential()\n",
    "model.add(layers.Dense(16,activation='relu',input_shape=(10000,)))\n",
    "model.add(layers.Dense(16, activation='relu'))\n",
    "model.add(layers.Dense(1,activation='sigmoid'))\n",
    "model.compile(optimizer = 'rmsprop',loss ='binary_crossentropy',metrics = ['accuracy'])\n",
    "history = model.fit(x_train,y_train,epochs = 4, batch_size = 512)\n",
    "results = model.evaluate(x_test,y_test)"
   ]
  },
  {
   "cell_type": "code",
   "execution_count": 72,
   "metadata": {},
   "outputs": [
    {
     "data": {
      "text/plain": [
       "[0.3233712219238281, 0.87344]"
      ]
     },
     "execution_count": 72,
     "metadata": {},
     "output_type": "execute_result"
    }
   ],
   "source": [
    "results"
   ]
  },
  {
   "cell_type": "code",
   "execution_count": 77,
   "metadata": {},
   "outputs": [
    {
     "name": "stdout",
     "output_type": "stream",
     "text": [
      "Train on 15000 samples, validate on 10000 samples\n",
      "Epoch 1/4\n",
      "15000/15000 [==============================] - 4s 289us/step - loss: 0.5394 - acc: 0.7961 - val_loss: 0.4214 - val_acc: 0.8648\n",
      "Epoch 2/4\n",
      "15000/15000 [==============================] - 4s 265us/step - loss: 0.3423 - acc: 0.8987 - val_loss: 0.3304 - val_acc: 0.8866\n",
      "Epoch 3/4\n",
      "15000/15000 [==============================] - 4s 260us/step - loss: 0.2497 - acc: 0.9255 - val_loss: 0.2956 - val_acc: 0.8841\n",
      "Epoch 4/4\n",
      "15000/15000 [==============================] - 4s 255us/step - loss: 0.1931 - acc: 0.9388 - val_loss: 0.2879 - val_acc: 0.8843\n",
      "25000/25000 [==============================] - 4s 168us/step\n"
     ]
    }
   ],
   "source": [
    "model = models.Sequential()\n",
    "model.add(layers.Dense(16,activation='relu',input_shape=(10000,)))\n",
    "model.add(layers.Dense(16, activation='relu'))\n",
    "model.add(layers.Dense(1,activation='sigmoid'))\n",
    "model.compile(optimizer = 'rmsprop',loss ='binary_crossentropy',metrics = ['accuracy'])\n",
    "history = model.fit(partial_x_train,partial_y_train,epochs = 4, batch_size = 512,validation_data=(x_val,y_val))\n",
    "results = model.evaluate(x_test,y_test)"
   ]
  },
  {
   "cell_type": "code",
   "execution_count": 78,
   "metadata": {},
   "outputs": [],
   "source": [
    "history_dict = history.history\n",
    "loss_values =history_dict['loss']\n",
    "val_loss_values = history_dict['val_loss']\n",
    "epochs = range(1, len(history_dict['acc'])+1)"
   ]
  },
  {
   "cell_type": "code",
   "execution_count": 79,
   "metadata": {},
   "outputs": [
    {
     "data": {
      "image/png": "[encoded data removed]",
      "text/plain": [
       "<Figure size 432x288 with 1 Axes>"
      ]
     },
     "metadata": {},
     "output_type": "display_data"
    }
   ],
   "source": [
    "plt.plot(epochs,loss_values,'bo',label='Training loss')\n",
    "plt.plot(epochs,val_loss_values,'b',label='Validation loss')\n",
    "plt.title('Training & Validation loss')\n",
    "plt.xlabel('Epochs')\n",
    "plt.ylabel('Loss')\n",
    "plt.legend()\n",
    "plt.show()"
   ]
  },
  {
   "cell_type": "code",
   "execution_count": 80,
   "metadata": {},
   "outputs": [
    {
     "name": "stdout",
     "output_type": "stream",
     "text": [
      "Train on 15000 samples, validate on 10000 samples\n",
      "Epoch 1/10\n",
      "15000/15000 [==============================] - 5s 317us/step - loss: 0.4889 - acc: 0.8003 - val_loss: 0.3513 - val_acc: 0.8771\n",
      "Epoch 2/10\n",
      "15000/15000 [==============================] - 4s 278us/step - loss: 0.2788 - acc: 0.9070 - val_loss: 0.2878 - val_acc: 0.8920\n",
      "Epoch 3/10\n",
      "15000/15000 [==============================] - 4s 295us/step - loss: 0.2052 - acc: 0.9303 - val_loss: 0.2907 - val_acc: 0.8872\n",
      "Epoch 4/10\n",
      "15000/15000 [==============================] - 4s 270us/step - loss: 0.1602 - acc: 0.9490 - val_loss: 0.2772 - val_acc: 0.8889\n",
      "Epoch 5/10\n",
      "15000/15000 [==============================] - 4s 273us/step - loss: 0.1323 - acc: 0.9561 - val_loss: 0.2935 - val_acc: 0.8852\n",
      "Epoch 6/10\n",
      "15000/15000 [==============================] - 5s 322us/step - loss: 0.1062 - acc: 0.9665 - val_loss: 0.3115 - val_acc: 0.8841\n",
      "Epoch 7/10\n",
      "15000/15000 [==============================] - 4s 275us/step - loss: 0.0911 - acc: 0.9710 - val_loss: 0.3282 - val_acc: 0.8830\n",
      "Epoch 8/10\n",
      "15000/15000 [==============================] - 4s 277us/step - loss: 0.0702 - acc: 0.9800 - val_loss: 0.3519 - val_acc: 0.8816\n",
      "Epoch 9/10\n",
      "15000/15000 [==============================] - 4s 290us/step - loss: 0.0580 - acc: 0.9840 - val_loss: 0.5509 - val_acc: 0.8376\n",
      "Epoch 10/10\n",
      "15000/15000 [==============================] - 4s 275us/step - loss: 0.0497 - acc: 0.9863 - val_loss: 0.4093 - val_acc: 0.8748\n",
      "25000/25000 [==============================] - 5s 207us/step\n"
     ]
    }
   ],
   "source": [
    "model = models.Sequential()\n",
    "model.add(layers.Dense(32,activation='relu',input_shape=(10000,)))\n",
    "model.add(layers.Dense(16, activation='relu'))\n",
    "model.add(layers.Dense(1,activation='sigmoid'))\n",
    "model.compile(optimizer = 'rmsprop',loss ='binary_crossentropy',metrics = ['accuracy'])\n",
    "history = model.fit(partial_x_train,partial_y_train,epochs = 10, batch_size = 512,validation_data=(x_val,y_val))\n",
    "results = model.evaluate(x_test,y_test)"
   ]
  },
  {
   "cell_type": "code",
   "execution_count": 81,
   "metadata": {},
   "outputs": [
    {
     "data": {
      "image/png": "[encoded data removed]",
      "text/plain": [
       "<Figure size 432x288 with 1 Axes>"
      ]
     },
     "metadata": {},
     "output_type": "display_data"
    }
   ],
   "source": [
    "history_dict = history.history\n",
    "loss_values =history_dict['loss']\n",
    "val_loss_values = history_dict['val_loss']\n",
    "epochs = range(1, len(history_dict['acc'])+1)\n",
    "plt.plot(epochs,loss_values,'bo',label='Training loss')\n",
    "plt.plot(epochs,val_loss_values,'b',label='Validation loss')\n",
    "plt.title('Training & Validation loss')\n",
    "plt.xlabel('Epochs')\n",
    "plt.ylabel('Loss')\n",
    "plt.legend()\n",
    "plt.show()"
   ]
  },
  {
   "cell_type": "code",
   "execution_count": 82,
   "metadata": {},
   "outputs": [
    {
     "data": {
      "image/png": "[encoded data removed]",
      "text/plain": [
       "<Figure size 432x288 with 1 Axes>"
      ]
     },
     "metadata": {},
     "output_type": "display_data"
    }
   ],
   "source": [
    "history_dict = history.history\n",
    "acc_values =history_dict['acc']\n",
    "val_acc_values = history_dict['val_acc']\n",
    "epochs = range(1, len(history_dict['acc'])+1)\n",
    "plt.plot(epochs,acc_values,'bo',label='Training acc')\n",
    "plt.plot(epochs,val_acc_values,'b',label='Validation acc')\n",
    "plt.title('Training & Validation acc')\n",
    "plt.xlabel('Epochs')\n",
    "plt.ylabel('Accuracy')\n",
    "plt.legend()\n",
    "plt.show()"
   ]
  },
  {
   "cell_type": "code",
   "execution_count": 84,
   "metadata": {},
   "outputs": [
    {
     "name": "stdout",
     "output_type": "stream",
     "text": [
      "Train on 15000 samples, validate on 10000 samples\n",
      "Epoch 1/10\n",
      "15000/15000 [==============================] - 5s 314us/step - loss: 0.5157 - acc: 0.7737 - val_loss: 0.3578 - val_acc: 0.8708\n",
      "Epoch 2/10\n",
      "15000/15000 [==============================] - 4s 272us/step - loss: 0.2757 - acc: 0.9069 - val_loss: 0.3128 - val_acc: 0.8753\n",
      "Epoch 3/10\n",
      "15000/15000 [==============================] - 4s 272us/step - loss: 0.1992 - acc: 0.9306 - val_loss: 0.3596 - val_acc: 0.8530\n",
      "Epoch 4/10\n",
      "15000/15000 [==============================] - 4s 273us/step - loss: 0.1576 - acc: 0.9458 - val_loss: 0.2907 - val_acc: 0.8855\n",
      "Epoch 5/10\n",
      "15000/15000 [==============================] - 4s 281us/step - loss: 0.1184 - acc: 0.9633 - val_loss: 0.3463 - val_acc: 0.8694\n",
      "Epoch 6/10\n",
      "15000/15000 [==============================] - 4s 273us/step - loss: 0.0984 - acc: 0.9679 - val_loss: 0.3287 - val_acc: 0.8787\n",
      "Epoch 7/10\n",
      "15000/15000 [==============================] - 4s 277us/step - loss: 0.0764 - acc: 0.9765 - val_loss: 0.3434 - val_acc: 0.8813\n",
      "Epoch 8/10\n",
      "15000/15000 [==============================] - 4s 272us/step - loss: 0.0601 - acc: 0.9816 - val_loss: 0.3805 - val_acc: 0.8802\n",
      "Epoch 9/10\n",
      "15000/15000 [==============================] - 4s 273us/step - loss: 0.0439 - acc: 0.9893 - val_loss: 0.4055 - val_acc: 0.8766\n",
      "Epoch 10/10\n",
      "15000/15000 [==============================] - 4s 276us/step - loss: 0.0365 - acc: 0.9908 - val_loss: 0.4370 - val_acc: 0.8774\n",
      "25000/25000 [==============================] - 5s 195us/step\n"
     ]
    }
   ],
   "source": [
    "model = models.Sequential()\n",
    "model.add(layers.Dense(32,activation='relu',input_shape=(10000,)))\n",
    "model.add(layers.Dense(16, activation='relu'))\n",
    "model.add(layers.Dense(8,activation='relu'))\n",
    "model.add(layers.Dense(1,activation='sigmoid'))\n",
    "model.compile(optimizer = 'rmsprop',loss ='binary_crossentropy',metrics = ['accuracy'])\n",
    "history = model.fit(partial_x_train,partial_y_train,epochs = 10, batch_size = 512,validation_data=(x_val,y_val))\n",
    "results = model.evaluate(x_test,y_test)"
   ]
  },
  {
   "cell_type": "code",
   "execution_count": 85,
   "metadata": {},
   "outputs": [
    {
     "data": {
      "text/plain": [
       "array([[0.03468466],\n",
       "       [0.9999982 ],\n",
       "       [0.947397  ],\n",
       "       ...,\n",
       "       [0.01942014],\n",
       "       [0.01633992],\n",
       "       [0.9504164 ]], dtype=float32)"
      ]
     },
     "execution_count": 85,
     "metadata": {},
     "output_type": "execute_result"
    }
   ],
   "source": [
    "model.predict(x_test)"
   ]
  },
  {
   "cell_type": "code",
   "execution_count": 88,
   "metadata": {},
   "outputs": [
    {
     "data": {
      "image/png": "[encoded data removed]",
      "text/plain": [
       "<Figure size 432x288 with 1 Axes>"
      ]
     },
     "metadata": {},
     "output_type": "display_data"
    }
   ],
   "source": [
    "history_dict = history.history\n",
    "acc_values =history_dict['acc']\n",
    "val_acc_values = history_dict['val_acc']\n",
    "epochs = range(1, len(history_dict['acc'])+1)\n",
    "plt.plot(epochs,acc_values,'bo',label='Training acc')\n",
    "plt.plot(epochs,val_acc_values,'b',label='Validation acc')\n",
    "plt.title('Training & Validation acc')\n",
    "plt.xlabel('Epochs')\n",
    "plt.ylabel('Accuracy')\n",
    "plt.legend()\n",
    "plt.show()"
   ]
  },
  {
   "cell_type": "code",
   "execution_count": 89,
   "metadata": {},
   "outputs": [
    {
     "name": "stdout",
     "output_type": "stream",
     "text": [
      "Train on 15000 samples, validate on 10000 samples\n",
      "Epoch 1/10\n",
      "15000/15000 [==============================] - 5s 334us/step - loss: 0.4748 - acc: 0.7991 - val_loss: 0.3534 - val_acc: 0.8729\n",
      "Epoch 2/10\n",
      "15000/15000 [==============================] - 4s 275us/step - loss: 0.2774 - acc: 0.9119 - val_loss: 0.2906 - val_acc: 0.8895\n",
      "Epoch 3/10\n",
      "15000/15000 [==============================] - 4s 275us/step - loss: 0.2079 - acc: 0.9322 - val_loss: 0.2733 - val_acc: 0.8906\n",
      "Epoch 4/10\n",
      "15000/15000 [==============================] - 4s 273us/step - loss: 0.1643 - acc: 0.9484 - val_loss: 0.3651 - val_acc: 0.8538\n",
      "Epoch 5/10\n",
      "15000/15000 [==============================] - 4s 278us/step - loss: 0.1356 - acc: 0.9577 - val_loss: 0.2794 - val_acc: 0.8865\n",
      "Epoch 6/10\n",
      "15000/15000 [==============================] - 4s 278us/step - loss: 0.1121 - acc: 0.9661 - val_loss: 0.2974 - val_acc: 0.8850\n",
      "Epoch 7/10\n",
      "15000/15000 [==============================] - 4s 277us/step - loss: 0.0928 - acc: 0.9736 - val_loss: 0.3144 - val_acc: 0.8836\n",
      "Epoch 8/10\n",
      "15000/15000 [==============================] - 4s 274us/step - loss: 0.0776 - acc: 0.9783 - val_loss: 0.3328 - val_acc: 0.8802\n",
      "Epoch 9/10\n",
      "15000/15000 [==============================] - 4s 276us/step - loss: 0.0624 - acc: 0.9840 - val_loss: 0.3572 - val_acc: 0.8781\n",
      "Epoch 10/10\n",
      "15000/15000 [==============================] - 4s 280us/step - loss: 0.0534 - acc: 0.9870 - val_loss: 0.3936 - val_acc: 0.8778\n",
      "25000/25000 [==============================] - 5s 197us/step\n"
     ]
    }
   ],
   "source": [
    "model = models.Sequential()\n",
    "model.add(layers.Dense(32,activation='tanh',input_shape=(10000,)))\n",
    "model.add(layers.Dense(1,activation='sigmoid'))\n",
    "model.compile(optimizer = 'rmsprop',loss ='binary_crossentropy',metrics = ['accuracy'])\n",
    "history = model.fit(partial_x_train,partial_y_train,epochs = 10, batch_size = 512,validation_data=(x_val,y_val))\n",
    "results = model.evaluate(x_test,y_test)"
   ]
  },
  {
   "cell_type": "code",
   "execution_count": 90,
   "metadata": {},
   "outputs": [
    {
     "data": {
      "text/plain": [
       "array([[0.0983842 ],\n",
       "       [0.9999875 ],\n",
       "       [0.97827816],\n",
       "       ...,\n",
       "       [0.08370763],\n",
       "       [0.04974724],\n",
       "       [0.76455635]], dtype=float32)"
      ]
     },
     "execution_count": 90,
     "metadata": {},
     "output_type": "execute_result"
    }
   ],
   "source": [
    "model.predict(x_test)"
   ]
  },
  {
   "cell_type": "code",
   "execution_count": 91,
   "metadata": {},
   "outputs": [
    {
     "name": "stdout",
     "output_type": "stream",
     "text": [
      "Train on 15000 samples, validate on 10000 samples\n",
      "Epoch 1/3\n",
      "15000/15000 [==============================] - 5s 319us/step - loss: 0.4653 - acc: 0.8065 - val_loss: 0.3630 - val_acc: 0.8661\n",
      "Epoch 2/3\n",
      "15000/15000 [==============================] - 4s 276us/step - loss: 0.2817 - acc: 0.9069 - val_loss: 0.2942 - val_acc: 0.8891\n",
      "Epoch 3/3\n",
      "15000/15000 [==============================] - 4s 280us/step - loss: 0.2102 - acc: 0.9305 - val_loss: 0.2745 - val_acc: 0.8903\n",
      "25000/25000 [==============================] - 5s 191us/step\n"
     ]
    }
   ],
   "source": [
    "model = models.Sequential()\n",
    "model.add(layers.Dense(32,activation='tanh',input_shape=(10000,)))\n",
    "model.add(layers.Dense(1,activation='sigmoid'))\n",
    "model.compile(optimizer = 'rmsprop',loss ='binary_crossentropy',metrics = ['accuracy'])\n",
    "history = model.fit(partial_x_train,partial_y_train,epochs = 3, batch_size = 512,validation_data=(x_val,y_val))\n",
    "results = model.evaluate(x_test,y_test)"
   ]
  },
  {
   "cell_type": "code",
   "execution_count": 92,
   "metadata": {},
   "outputs": [
    {
     "data": {
      "text/plain": [
       "array([[0.25747624],\n",
       "       [0.9962179 ],\n",
       "       [0.7882261 ],\n",
       "       ...,\n",
       "       [0.14843382],\n",
       "       [0.21827063],\n",
       "       [0.5776572 ]], dtype=float32)"
      ]
     },
     "execution_count": 92,
     "metadata": {},
     "output_type": "execute_result"
    }
   ],
   "source": [
    "model.predict(x_test)"
   ]
  },
  {
   "cell_type": "code",
   "execution_count": 94,
   "metadata": {},
   "outputs": [
    {
     "name": "stdout",
     "output_type": "stream",
     "text": [
      "Train on 15000 samples, validate on 10000 samples\n",
      "Epoch 1/3\n",
      "15000/15000 [==============================] - 5s 328us/step - loss: 0.1556 - acc: 0.7831 - val_loss: 0.1037 - val_acc: 0.8754\n",
      "Epoch 2/3\n",
      "15000/15000 [==============================] - 4s 275us/step - loss: 0.0771 - acc: 0.9115 - val_loss: 0.1110 - val_acc: 0.8487\n",
      "Epoch 3/3\n",
      "15000/15000 [==============================] - 4s 281us/step - loss: 0.0564 - acc: 0.9328 - val_loss: 0.0846 - val_acc: 0.8868\n",
      "25000/25000 [==============================] - 5s 189us/step\n"
     ]
    }
   ],
   "source": [
    "model = models.Sequential()\n",
    "model.add(layers.Dense(32,activation='tanh',input_shape=(10000,)))\n",
    "model.add(layers.Dense(16,activation = 'relu'))\n",
    "model.add(layers.Dense(1,activation='sigmoid'))\n",
    "model.compile(optimizer = 'rmsprop',loss ='mse',metrics = ['accuracy'])\n",
    "history = model.fit(partial_x_train,partial_y_train,epochs = 3, batch_size = 512,validation_data=(x_val,y_val))\n",
    "results = model.evaluate(x_test,y_test)"
   ]
  },
  {
   "cell_type": "code",
   "execution_count": 95,
   "metadata": {},
   "outputs": [
    {
     "data": {
      "text/plain": [
       "array([[0.27831474],\n",
       "       [0.9974891 ],\n",
       "       [0.95172423],\n",
       "       ...,\n",
       "       [0.17008723],\n",
       "       [0.1929512 ],\n",
       "       [0.6349906 ]], dtype=float32)"
      ]
     },
     "execution_count": 95,
     "metadata": {},
     "output_type": "execute_result"
    }
   ],
   "source": [
    "model.predict(x_test)"
   ]
  },
  {
   "cell_type": "code",
   "execution_count": 96,
   "metadata": {},
   "outputs": [
    {
     "data": {
      "text/plain": [
       "array([[0.98190063],\n",
       "       [0.04305266],\n",
       "       [0.02740792],\n",
       "       ...,\n",
       "       [0.03291084],\n",
       "       [0.95415443],\n",
       "       [0.16790986]], dtype=float32)"
      ]
     },
     "execution_count": 96,
     "metadata": {},
     "output_type": "execute_result"
    }
   ],
   "source": [
    "model.predict(x_train)"
   ]
  },
  {
   "cell_type": "code",
   "execution_count": null,
   "metadata": {},
   "outputs": [],
   "source": []
  }
 ],
 "metadata": {
  "kernelspec": {
   "display_name": "Python 3",
   "language": "python",
   "name": "python3"
  },
  "language_info": {
   "codemirror_mode": {
    "name": "ipython",
    "version": 3
   },
   "file_extension": ".py",
   "mimetype": "text/x-python",
   "name": "python",
   "nbconvert_exporter": "python",
   "pygments_lexer": "ipython3",
   "version": "3.6.5"
  }
 },
 "nbformat": 4,
 "nbformat_minor": 2
}
