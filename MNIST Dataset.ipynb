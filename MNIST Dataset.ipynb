{
 "cells": [
  {
   "cell_type": "code",
   "execution_count": 22,
   "metadata": {},
   "outputs": [],
   "source": [
    "import numpy as np\n",
    "import pandas as pd\n",
    "from keras.utils import to_categorical\n",
    "from keras import layers\n",
    "from keras import models\n",
    "from keras.datasets import mnist\n",
    "import matplotlib.pyplot as plt"
   ]
  },
  {
   "cell_type": "code",
   "execution_count": 61,
   "metadata": {},
   "outputs": [],
   "source": [
    "(train_images,train_labels),(test_images,test_labels) = mnist.load_data()"
   ]
  },
  {
   "cell_type": "code",
   "execution_count": 62,
   "metadata": {},
   "outputs": [
    {
     "data": {
      "image/png": "[encoded data removed]",
      "text/plain": [
       "<Figure size 432x288 with 1 Axes>"
      ]
     },
     "metadata": {},
     "output_type": "display_data"
    }
   ],
   "source": [
    "digit = train_images[10]\n",
    "plt.imshow(digit,cmap = plt.cm.binary)\n",
    "plt.show()"
   ]
  },
  {
   "cell_type": "code",
   "execution_count": 73,
   "metadata": {},
   "outputs": [
    {
     "data": {
      "image/png": "[encoded data removed]",
      "text/plain": [
       "<Figure size 432x288 with 1 Axes>"
      ]
     },
     "metadata": {},
     "output_type": "display_data"
    },
    {
     "data": {
      "text/plain": [
       "2"
      ]
     },
     "execution_count": 73,
     "metadata": {},
     "output_type": "execute_result"
    }
   ],
   "source": [
    "digit = train_images[10, 10:-10,13:-13]\n",
    "plt.imshow(digit,cmap = plt.cm.binary)\n",
    "plt.show()\n",
    "digit.ndim"
   ]
  },
  {
   "cell_type": "code",
   "execution_count": 42,
   "metadata": {},
   "outputs": [
    {
     "data": {
      "text/plain": [
       "(60000, 784)"
      ]
     },
     "execution_count": 42,
     "metadata": {},
     "output_type": "execute_result"
    }
   ],
   "source": [
    "train_images.shape\n"
   ]
  },
  {
   "cell_type": "code",
   "execution_count": 25,
   "metadata": {},
   "outputs": [
    {
     "data": {
      "text/plain": [
       "60000"
      ]
     },
     "execution_count": 25,
     "metadata": {},
     "output_type": "execute_result"
    }
   ],
   "source": [
    "len(train_labels)"
   ]
  },
  {
   "cell_type": "code",
   "execution_count": 26,
   "metadata": {},
   "outputs": [],
   "source": [
    "network = models.Sequential()"
   ]
  },
  {
   "cell_type": "code",
   "execution_count": 27,
   "metadata": {},
   "outputs": [],
   "source": [
    "network.add(layers.Dense(512, activation = 'relu', input_shape = (28*28,)))"
   ]
  },
  {
   "cell_type": "code",
   "execution_count": 28,
   "metadata": {},
   "outputs": [],
   "source": [
    "network.add(layers.Dense(10,activation = 'softmax'))"
   ]
  },
  {
   "cell_type": "code",
   "execution_count": 29,
   "metadata": {},
   "outputs": [],
   "source": [
    "network.compile(optimizer='rmsprop',\n",
    "loss='categorical_crossentropy',\n",
    "metrics=['accuracy'])"
   ]
  },
  {
   "cell_type": "code",
   "execution_count": 32,
   "metadata": {},
   "outputs": [],
   "source": [
    "train_images = train_images.reshape((60000,28*28))\n",
    "train_images = train_images.astype('float32')/255\n",
    "\n",
    "test_images = test_images.reshape((10000,28*28))\n",
    "test_images = test_images.astype('float32')/255"
   ]
  },
  {
   "cell_type": "code",
   "execution_count": 33,
   "metadata": {},
   "outputs": [],
   "source": [
    "train_labels = to_categorical(train_labels)\n",
    "test_labels = to_categorical(test_labels)"
   ]
  },
  {
   "cell_type": "code",
   "execution_count": 38,
   "metadata": {},
   "outputs": [
    {
     "name": "stdout",
     "output_type": "stream",
     "text": [
      "Epoch 1/15\n",
      "60000/60000 [==============================] - 4s 71us/step - loss: 0.1411 - acc: 0.9600\n",
      "Epoch 2/15\n",
      "60000/60000 [==============================] - 4s 70us/step - loss: 0.1375 - acc: 0.9606\n",
      "Epoch 3/15\n",
      "60000/60000 [==============================] - 4s 70us/step - loss: 0.1337 - acc: 0.9622\n",
      "Epoch 4/15\n",
      "60000/60000 [==============================] - 4s 69us/step - loss: 0.1305 - acc: 0.9633\n",
      "Epoch 5/15\n",
      "60000/60000 [==============================] - 4s 70us/step - loss: 0.1270 - acc: 0.9639\n",
      "Epoch 6/15\n",
      "60000/60000 [==============================] - 4s 72us/step - loss: 0.1241 - acc: 0.9647\n",
      "Epoch 7/15\n",
      "60000/60000 [==============================] - 4s 71us/step - loss: 0.1211 - acc: 0.9660\n",
      "Epoch 8/15\n",
      "60000/60000 [==============================] - 4s 71us/step - loss: 0.1183 - acc: 0.9669\n",
      "Epoch 9/15\n",
      "60000/60000 [==============================] - 4s 71us/step - loss: 0.1154 - acc: 0.9670\n",
      "Epoch 10/15\n",
      "60000/60000 [==============================] - 4s 71us/step - loss: 0.1128 - acc: 0.9682\n",
      "Epoch 11/15\n",
      "60000/60000 [==============================] - 4s 71us/step - loss: 0.1103 - acc: 0.9689\n",
      "Epoch 12/15\n",
      "60000/60000 [==============================] - 4s 71us/step - loss: 0.1077 - acc: 0.9696\n",
      "Epoch 13/15\n",
      "60000/60000 [==============================] - 4s 71us/step - loss: 0.1052 - acc: 0.9702\n",
      "Epoch 14/15\n",
      "60000/60000 [==============================] - 4s 73us/step - loss: 0.1029 - acc: 0.9710: 0s - loss: 0.1026 - acc: 0.9\n",
      "Epoch 15/15\n",
      "60000/60000 [==============================] - 4s 71us/step - loss: 0.1008 - acc: 0.9716\n"
     ]
    },
    {
     "data": {
      "text/plain": [
       "<keras.callbacks.History at 0x1f10043f4e0>"
      ]
     },
     "execution_count": 38,
     "metadata": {},
     "output_type": "execute_result"
    }
   ],
   "source": [
    "network.fit(train_images,train_labels,epochs = 15,batch_size=256)"
   ]
  },
  {
   "cell_type": "code",
   "execution_count": 39,
   "metadata": {},
   "outputs": [
    {
     "name": "stdout",
     "output_type": "stream",
     "text": [
      "10000/10000 [==============================] - 1s 65us/step\n",
      "test accuracy: 0.9537\n"
     ]
    }
   ],
   "source": [
    "test_loss,test_acc = network.evaluate(test_images,test_labels)\n",
    "print('test accuracy:',test_acc)"
   ]
  },
  {
   "cell_type": "code",
   "execution_count": null,
   "metadata": {},
   "outputs": [],
   "source": []
  },
  {
   "cell_type": "code",
   "execution_count": null,
   "metadata": {},
   "outputs": [],
   "source": []
  }
 ],
 "metadata": {
  "kernelspec": {
   "display_name": "Python 3",
   "language": "python",
   "name": "python3"
  },
  "language_info": {
   "codemirror_mode": {
    "name": "ipython",
    "version": 3
   },
   "file_extension": ".py",
   "mimetype": "text/x-python",
   "name": "python",
   "nbconvert_exporter": "python",
   "pygments_lexer": "ipython3",
   "version": "3.6.5"
  }
 },
 "nbformat": 4,
 "nbformat_minor": 2
}
